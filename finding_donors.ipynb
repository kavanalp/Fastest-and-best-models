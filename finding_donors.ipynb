{
 "cells": [
  {
   "cell_type": "markdown",
   "metadata": {},
   "source": [
    "## Supervised Learning\n",
    "## Project: Finding Donors for *CharityML*"
   ]
  },
  {
   "cell_type": "markdown",
   "metadata": {},
   "source": [
    "### Getting Started\n",
    "\n",
    "In this project, I will employ several supervised algorithms of my choice to accurately model individuals' income using data collected from the 1994 U.S. Census. I will then choose the best candidate algorithm from preliminary results and further optimize this algorithm to best model the data. My goal with this implementation is to construct a model that accurately predicts whether an individual makes more than $50,000. This sort of task can arise in a non-profit setting, where organizations survive on donations.  Understanding an individual's income can help a non-profit better understand how large of a donation to request, or whether or not they should reach out to begin with.  While it can be difficult to determine an individual's general income bracket directly from public sources, we can (as we will see) infer this value from other publically available features. \n",
    "\n",
    "The datset was donated by Ron Kohavi and Barry Becker, after being published in the article _\"Scaling Up the Accuracy of Naive-Bayes Classifiers: A Decision-Tree Hybrid\"_."
   ]
  },
  {
   "cell_type": "markdown",
   "metadata": {},
   "source": [
    "----\n",
    "## Exploring the Data\n",
    "Run the code cell below to load necessary Python libraries and load the census data. Note that the last column from this dataset, `'income'`, will be our target label (whether an individual makes more than, or at most, $50,000 annually). All other columns are features about each individual in the census database."
   ]
  },
  {
   "cell_type": "code",
   "execution_count": 1,
   "metadata": {
    "scrolled": true
   },
   "outputs": [
    {
     "data": {
      "text/html": [
       "<div>\n",
       "<style scoped>\n",
       "    .dataframe tbody tr th:only-of-type {\n",
       "        vertical-align: middle;\n",
       "    }\n",
       "\n",
       "    .dataframe tbody tr th {\n",
       "        vertical-align: top;\n",
       "    }\n",
       "\n",
       "    .dataframe thead th {\n",
       "        text-align: right;\n",
       "    }\n",
       "</style>\n",
       "<table border=\"1\" class=\"dataframe\">\n",
       "  <thead>\n",
       "    <tr style=\"text-align: right;\">\n",
       "      <th></th>\n",
       "      <th>age</th>\n",
       "      <th>workclass</th>\n",
       "      <th>education_level</th>\n",
       "      <th>education-num</th>\n",
       "      <th>marital-status</th>\n",
       "      <th>occupation</th>\n",
       "      <th>relationship</th>\n",
       "      <th>race</th>\n",
       "      <th>sex</th>\n",
       "      <th>capital-gain</th>\n",
       "      <th>capital-loss</th>\n",
       "      <th>hours-per-week</th>\n",
       "      <th>native-country</th>\n",
       "      <th>income</th>\n",
       "    </tr>\n",
       "  </thead>\n",
       "  <tbody>\n",
       "    <tr>\n",
       "      <th>0</th>\n",
       "      <td>39</td>\n",
       "      <td>State-gov</td>\n",
       "      <td>Bachelors</td>\n",
       "      <td>13.0</td>\n",
       "      <td>Never-married</td>\n",
       "      <td>Adm-clerical</td>\n",
       "      <td>Not-in-family</td>\n",
       "      <td>White</td>\n",
       "      <td>Male</td>\n",
       "      <td>2174.0</td>\n",
       "      <td>0.0</td>\n",
       "      <td>40.0</td>\n",
       "      <td>United-States</td>\n",
       "      <td>&lt;=50K</td>\n",
       "    </tr>\n",
       "    <tr>\n",
       "      <th>1</th>\n",
       "      <td>50</td>\n",
       "      <td>Self-emp-not-inc</td>\n",
       "      <td>Bachelors</td>\n",
       "      <td>13.0</td>\n",
       "      <td>Married-civ-spouse</td>\n",
       "      <td>Exec-managerial</td>\n",
       "      <td>Husband</td>\n",
       "      <td>White</td>\n",
       "      <td>Male</td>\n",
       "      <td>0.0</td>\n",
       "      <td>0.0</td>\n",
       "      <td>13.0</td>\n",
       "      <td>United-States</td>\n",
       "      <td>&lt;=50K</td>\n",
       "    </tr>\n",
       "    <tr>\n",
       "      <th>2</th>\n",
       "      <td>38</td>\n",
       "      <td>Private</td>\n",
       "      <td>HS-grad</td>\n",
       "      <td>9.0</td>\n",
       "      <td>Divorced</td>\n",
       "      <td>Handlers-cleaners</td>\n",
       "      <td>Not-in-family</td>\n",
       "      <td>White</td>\n",
       "      <td>Male</td>\n",
       "      <td>0.0</td>\n",
       "      <td>0.0</td>\n",
       "      <td>40.0</td>\n",
       "      <td>United-States</td>\n",
       "      <td>&lt;=50K</td>\n",
       "    </tr>\n",
       "    <tr>\n",
       "      <th>3</th>\n",
       "      <td>53</td>\n",
       "      <td>Private</td>\n",
       "      <td>11th</td>\n",
       "      <td>7.0</td>\n",
       "      <td>Married-civ-spouse</td>\n",
       "      <td>Handlers-cleaners</td>\n",
       "      <td>Husband</td>\n",
       "      <td>Black</td>\n",
       "      <td>Male</td>\n",
       "      <td>0.0</td>\n",
       "      <td>0.0</td>\n",
       "      <td>40.0</td>\n",
       "      <td>United-States</td>\n",
       "      <td>&lt;=50K</td>\n",
       "    </tr>\n",
       "    <tr>\n",
       "      <th>4</th>\n",
       "      <td>28</td>\n",
       "      <td>Private</td>\n",
       "      <td>Bachelors</td>\n",
       "      <td>13.0</td>\n",
       "      <td>Married-civ-spouse</td>\n",
       "      <td>Prof-specialty</td>\n",
       "      <td>Wife</td>\n",
       "      <td>Black</td>\n",
       "      <td>Female</td>\n",
       "      <td>0.0</td>\n",
       "      <td>0.0</td>\n",
       "      <td>40.0</td>\n",
       "      <td>Cuba</td>\n",
       "      <td>&lt;=50K</td>\n",
       "    </tr>\n",
       "  </tbody>\n",
       "</table>\n",
       "</div>"
      ],
      "text/plain": [
       "   age          workclass education_level  education-num       marital-status  \\\n",
       "0   39          State-gov       Bachelors           13.0        Never-married   \n",
       "1   50   Self-emp-not-inc       Bachelors           13.0   Married-civ-spouse   \n",
       "2   38            Private         HS-grad            9.0             Divorced   \n",
       "3   53            Private            11th            7.0   Married-civ-spouse   \n",
       "4   28            Private       Bachelors           13.0   Married-civ-spouse   \n",
       "\n",
       "           occupation    relationship    race      sex  capital-gain  \\\n",
       "0        Adm-clerical   Not-in-family   White     Male        2174.0   \n",
       "1     Exec-managerial         Husband   White     Male           0.0   \n",
       "2   Handlers-cleaners   Not-in-family   White     Male           0.0   \n",
       "3   Handlers-cleaners         Husband   Black     Male           0.0   \n",
       "4      Prof-specialty            Wife   Black   Female           0.0   \n",
       "\n",
       "   capital-loss  hours-per-week  native-country income  \n",
       "0           0.0            40.0   United-States  <=50K  \n",
       "1           0.0            13.0   United-States  <=50K  \n",
       "2           0.0            40.0   United-States  <=50K  \n",
       "3           0.0            40.0   United-States  <=50K  \n",
       "4           0.0            40.0            Cuba  <=50K  "
      ]
     },
     "metadata": {},
     "output_type": "display_data"
    },
    {
     "data": {
      "application/javascript": [
       "\n",
       "            setTimeout(function() {\n",
       "                var nbb_cell_id = 1;\n",
       "                var nbb_unformatted_code = \"# Import libraries necessary for this project\\nimport numpy as np\\nimport pandas as pd\\nfrom time import time\\nfrom IPython.display import display  # Allows the use of display() for DataFrames\\n\\n%load_ext nb_black\\n%matplotlib inline\\n\\n# Import supplementary visualization code visuals.py\\nimport visuals as vs\\n\\n# Pretty display for notebooks\\n%matplotlib inline\\n\\n# Load the Census dataset\\ndata = pd.read_csv(\\\"census.csv\\\")\\n\\n# Success - Display the first record\\ndisplay(data.head(n=5))\";\n",
       "                var nbb_formatted_code = \"# Import libraries necessary for this project\\nimport numpy as np\\nimport pandas as pd\\nfrom time import time\\nfrom IPython.display import display  # Allows the use of display() for DataFrames\\n\\n%load_ext nb_black\\n%matplotlib inline\\n\\n# Import supplementary visualization code visuals.py\\nimport visuals as vs\\n\\n# Pretty display for notebooks\\n%matplotlib inline\\n\\n# Load the Census dataset\\ndata = pd.read_csv(\\\"census.csv\\\")\\n\\n# Success - Display the first record\\ndisplay(data.head(n=5))\";\n",
       "                var nbb_cells = Jupyter.notebook.get_cells();\n",
       "                for (var i = 0; i < nbb_cells.length; ++i) {\n",
       "                    if (nbb_cells[i].input_prompt_number == nbb_cell_id) {\n",
       "                        if (nbb_cells[i].get_text() == nbb_unformatted_code) {\n",
       "                             nbb_cells[i].set_text(nbb_formatted_code);\n",
       "                        }\n",
       "                        break;\n",
       "                    }\n",
       "                }\n",
       "            }, 500);\n",
       "            "
      ],
      "text/plain": [
       "<IPython.core.display.Javascript object>"
      ]
     },
     "metadata": {},
     "output_type": "display_data"
    }
   ],
   "source": [
    "# Import libraries necessary for this project\n",
    "import numpy as np\n",
    "import pandas as pd\n",
    "from time import time\n",
    "from IPython.display import display  # Allows the use of display() for DataFrames\n",
    "\n",
    "%load_ext nb_black\n",
    "%matplotlib inline\n",
    "\n",
    "# Import supplementary visualization code visuals.py\n",
    "import visuals as vs\n",
    "\n",
    "# Pretty display for notebooks\n",
    "%matplotlib inline\n",
    "\n",
    "# Load the Census dataset\n",
    "data = pd.read_csv(\"census.csv\")\n",
    "\n",
    "# Success - Display the first record\n",
    "display(data.head(n=5))"
   ]
  },
  {
   "cell_type": "markdown",
   "metadata": {},
   "source": [
    "### Implementation: Data Exploration\n",
    "A cursory investigation of the dataset will determine how many individuals fit into either group, and will tell us about the percentage of these individuals making more than \\$50,000. In the code cell below, you will need to compute the following:\n",
    "- The total number of records, `'n_records'`\n",
    "- The number of individuals making more than \\$50,000 annually, `'n_greater_50k'`.\n",
    "- The number of individuals making at most \\$50,000 annually, `'n_at_most_50k'`.\n",
    "- The percentage of individuals making more than \\$50,000 annually, `'greater_percent'`.\n",
    "\n",
    "** HINT: ** You may need to look at the table above to understand how the `'income'` entries are formatted. "
   ]
  },
  {
   "cell_type": "code",
   "execution_count": 2,
   "metadata": {},
   "outputs": [
    {
     "name": "stdout",
     "output_type": "stream",
     "text": [
      "Total number of records: 45222\n",
      "Individuals making more than $50,000: 11208\n",
      "Individuals making at most $50,000: 34014\n",
      "Percentage of individuals making more than $50,000: 24.78439697492371%\n"
     ]
    },
    {
     "data": {
      "application/javascript": [
       "\n",
       "            setTimeout(function() {\n",
       "                var nbb_cell_id = 2;\n",
       "                var nbb_unformatted_code = \"# Total number of records\\nn_records = data.shape[0]\\n\\n# Number of records where individual's income is more than $50,000\\nn_greater_50k = sum(data.income == \\\">50K\\\")\\n\\n# Number of records where individual's income is at most $50,000\\nn_at_most_50k = sum(data.income == \\\"<=50K\\\")\\n\\n# Percentage of individuals whose income is more than $50,000\\ngreater_percent = (n_greater_50k / (n_greater_50k + n_at_most_50k)) * 100\\n\\n# Print the results\\nprint(\\\"Total number of records: {}\\\".format(n_records))\\nprint(\\\"Individuals making more than $50,000: {}\\\".format(n_greater_50k))\\nprint(\\\"Individuals making at most $50,000: {}\\\".format(n_at_most_50k))\\nprint(\\\"Percentage of individuals making more than $50,000: {}%\\\".format(greater_percent))\";\n",
       "                var nbb_formatted_code = \"# Total number of records\\nn_records = data.shape[0]\\n\\n# Number of records where individual's income is more than $50,000\\nn_greater_50k = sum(data.income == \\\">50K\\\")\\n\\n# Number of records where individual's income is at most $50,000\\nn_at_most_50k = sum(data.income == \\\"<=50K\\\")\\n\\n# Percentage of individuals whose income is more than $50,000\\ngreater_percent = (n_greater_50k / (n_greater_50k + n_at_most_50k)) * 100\\n\\n# Print the results\\nprint(\\\"Total number of records: {}\\\".format(n_records))\\nprint(\\\"Individuals making more than $50,000: {}\\\".format(n_greater_50k))\\nprint(\\\"Individuals making at most $50,000: {}\\\".format(n_at_most_50k))\\nprint(\\\"Percentage of individuals making more than $50,000: {}%\\\".format(greater_percent))\";\n",
       "                var nbb_cells = Jupyter.notebook.get_cells();\n",
       "                for (var i = 0; i < nbb_cells.length; ++i) {\n",
       "                    if (nbb_cells[i].input_prompt_number == nbb_cell_id) {\n",
       "                        if (nbb_cells[i].get_text() == nbb_unformatted_code) {\n",
       "                             nbb_cells[i].set_text(nbb_formatted_code);\n",
       "                        }\n",
       "                        break;\n",
       "                    }\n",
       "                }\n",
       "            }, 500);\n",
       "            "
      ],
      "text/plain": [
       "<IPython.core.display.Javascript object>"
      ]
     },
     "metadata": {},
     "output_type": "display_data"
    }
   ],
   "source": [
    "# Total number of records\n",
    "n_records = data.shape[0]\n",
    "\n",
    "# Number of records where individual's income is more than $50,000\n",
    "n_greater_50k = sum(data.income == \">50K\")\n",
    "\n",
    "# Number of records where individual's income is at most $50,000\n",
    "n_at_most_50k = sum(data.income == \"<=50K\")\n",
    "\n",
    "# Percentage of individuals whose income is more than $50,000\n",
    "greater_percent = (n_greater_50k / (n_greater_50k + n_at_most_50k)) * 100\n",
    "\n",
    "# Print the results\n",
    "print(\"Total number of records: {}\".format(n_records))\n",
    "print(\"Individuals making more than $50,000: {}\".format(n_greater_50k))\n",
    "print(\"Individuals making at most $50,000: {}\".format(n_at_most_50k))\n",
    "print(\"Percentage of individuals making more than $50,000: {}%\".format(greater_percent))"
   ]
  },
  {
   "cell_type": "code",
   "execution_count": null,
   "metadata": {},
   "outputs": [],
   "source": []
  },
  {
   "cell_type": "markdown",
   "metadata": {},
   "source": [
    "** Featureset Exploration **\n",
    "\n",
    "* **age**: continuous. \n",
    "* **workclass**: Private, Self-emp-not-inc, Self-emp-inc, Federal-gov, Local-gov, State-gov, Without-pay, Never-worked. \n",
    "* **education**: Bachelors, Some-college, 11th, HS-grad, Prof-school, Assoc-acdm, Assoc-voc, 9th, 7th-8th, 12th, Masters, 1st-4th, 10th, Doctorate, 5th-6th, Preschool. \n",
    "* **education-num**: continuous. \n",
    "* **marital-status**: Married-civ-spouse, Divorced, Never-married, Separated, Widowed, Married-spouse-absent, Married-AF-spouse. \n",
    "* **occupation**: Tech-support, Craft-repair, Other-service, Sales, Exec-managerial, Prof-specialty, Handlers-cleaners, Machine-op-inspct, Adm-clerical, Farming-fishing, Transport-moving, Priv-house-serv, Protective-serv, Armed-Forces. \n",
    "* **relationship**: Wife, Own-child, Husband, Not-in-family, Other-relative, Unmarried. \n",
    "* **race**: Black, White, Asian-Pac-Islander, Amer-Indian-Eskimo, Other. \n",
    "* **sex**: Female, Male. \n",
    "* **capital-gain**: continuous. \n",
    "* **capital-loss**: continuous. \n",
    "* **hours-per-week**: continuous. \n",
    "* **native-country**: United-States, Cambodia, England, Puerto-Rico, Canada, Germany, Outlying-US(Guam-USVI-etc), India, Japan, Greece, South, China, Cuba, Iran, Honduras, Philippines, Italy, Poland, Jamaica, Vietnam, Mexico, Portugal, Ireland, France, Dominican-Republic, Laos, Ecuador, Taiwan, Haiti, Columbia, Hungary, Guatemala, Nicaragua, Scotland, Thailand, Yugoslavia, El-Salvador, Trinadad&Tobago, Peru, Hong, Holand-Netherlands."
   ]
  },
  {
   "cell_type": "markdown",
   "metadata": {},
   "source": [
    "### Normalizing Numerical Features\n",
    "May some data of a feature is skewed, so we have outliers and these points affect badly on our model .I decided to use one of scaling methods which is MinMaxScaler. MinMax doesn't change the information of any data point and also it is very useful for our classical machine learning models which using the distance between points for training."
   ]
  },
  {
   "cell_type": "code",
   "execution_count": 3,
   "metadata": {},
   "outputs": [
    {
     "data": {
      "text/html": [
       "<div>\n",
       "<style scoped>\n",
       "    .dataframe tbody tr th:only-of-type {\n",
       "        vertical-align: middle;\n",
       "    }\n",
       "\n",
       "    .dataframe tbody tr th {\n",
       "        vertical-align: top;\n",
       "    }\n",
       "\n",
       "    .dataframe thead th {\n",
       "        text-align: right;\n",
       "    }\n",
       "</style>\n",
       "<table border=\"1\" class=\"dataframe\">\n",
       "  <thead>\n",
       "    <tr style=\"text-align: right;\">\n",
       "      <th></th>\n",
       "      <th>age</th>\n",
       "      <th>workclass</th>\n",
       "      <th>education_level</th>\n",
       "      <th>education-num</th>\n",
       "      <th>marital-status</th>\n",
       "      <th>occupation</th>\n",
       "      <th>relationship</th>\n",
       "      <th>race</th>\n",
       "      <th>sex</th>\n",
       "      <th>capital-gain</th>\n",
       "      <th>capital-loss</th>\n",
       "      <th>hours-per-week</th>\n",
       "      <th>native-country</th>\n",
       "      <th>income</th>\n",
       "    </tr>\n",
       "  </thead>\n",
       "  <tbody>\n",
       "    <tr>\n",
       "      <th>0</th>\n",
       "      <td>0.301370</td>\n",
       "      <td>State-gov</td>\n",
       "      <td>Bachelors</td>\n",
       "      <td>0.800000</td>\n",
       "      <td>Never-married</td>\n",
       "      <td>Adm-clerical</td>\n",
       "      <td>Not-in-family</td>\n",
       "      <td>White</td>\n",
       "      <td>Male</td>\n",
       "      <td>0.02174</td>\n",
       "      <td>0.0</td>\n",
       "      <td>0.397959</td>\n",
       "      <td>United-States</td>\n",
       "      <td>&lt;=50K</td>\n",
       "    </tr>\n",
       "    <tr>\n",
       "      <th>1</th>\n",
       "      <td>0.452055</td>\n",
       "      <td>Self-emp-not-inc</td>\n",
       "      <td>Bachelors</td>\n",
       "      <td>0.800000</td>\n",
       "      <td>Married-civ-spouse</td>\n",
       "      <td>Exec-managerial</td>\n",
       "      <td>Husband</td>\n",
       "      <td>White</td>\n",
       "      <td>Male</td>\n",
       "      <td>0.00000</td>\n",
       "      <td>0.0</td>\n",
       "      <td>0.122449</td>\n",
       "      <td>United-States</td>\n",
       "      <td>&lt;=50K</td>\n",
       "    </tr>\n",
       "    <tr>\n",
       "      <th>2</th>\n",
       "      <td>0.287671</td>\n",
       "      <td>Private</td>\n",
       "      <td>HS-grad</td>\n",
       "      <td>0.533333</td>\n",
       "      <td>Divorced</td>\n",
       "      <td>Handlers-cleaners</td>\n",
       "      <td>Not-in-family</td>\n",
       "      <td>White</td>\n",
       "      <td>Male</td>\n",
       "      <td>0.00000</td>\n",
       "      <td>0.0</td>\n",
       "      <td>0.397959</td>\n",
       "      <td>United-States</td>\n",
       "      <td>&lt;=50K</td>\n",
       "    </tr>\n",
       "    <tr>\n",
       "      <th>3</th>\n",
       "      <td>0.493151</td>\n",
       "      <td>Private</td>\n",
       "      <td>11th</td>\n",
       "      <td>0.400000</td>\n",
       "      <td>Married-civ-spouse</td>\n",
       "      <td>Handlers-cleaners</td>\n",
       "      <td>Husband</td>\n",
       "      <td>Black</td>\n",
       "      <td>Male</td>\n",
       "      <td>0.00000</td>\n",
       "      <td>0.0</td>\n",
       "      <td>0.397959</td>\n",
       "      <td>United-States</td>\n",
       "      <td>&lt;=50K</td>\n",
       "    </tr>\n",
       "    <tr>\n",
       "      <th>4</th>\n",
       "      <td>0.150685</td>\n",
       "      <td>Private</td>\n",
       "      <td>Bachelors</td>\n",
       "      <td>0.800000</td>\n",
       "      <td>Married-civ-spouse</td>\n",
       "      <td>Prof-specialty</td>\n",
       "      <td>Wife</td>\n",
       "      <td>Black</td>\n",
       "      <td>Female</td>\n",
       "      <td>0.00000</td>\n",
       "      <td>0.0</td>\n",
       "      <td>0.397959</td>\n",
       "      <td>Cuba</td>\n",
       "      <td>&lt;=50K</td>\n",
       "    </tr>\n",
       "  </tbody>\n",
       "</table>\n",
       "</div>"
      ],
      "text/plain": [
       "        age          workclass education_level  education-num  \\\n",
       "0  0.301370          State-gov       Bachelors       0.800000   \n",
       "1  0.452055   Self-emp-not-inc       Bachelors       0.800000   \n",
       "2  0.287671            Private         HS-grad       0.533333   \n",
       "3  0.493151            Private            11th       0.400000   \n",
       "4  0.150685            Private       Bachelors       0.800000   \n",
       "\n",
       "        marital-status          occupation    relationship    race      sex  \\\n",
       "0        Never-married        Adm-clerical   Not-in-family   White     Male   \n",
       "1   Married-civ-spouse     Exec-managerial         Husband   White     Male   \n",
       "2             Divorced   Handlers-cleaners   Not-in-family   White     Male   \n",
       "3   Married-civ-spouse   Handlers-cleaners         Husband   Black     Male   \n",
       "4   Married-civ-spouse      Prof-specialty            Wife   Black   Female   \n",
       "\n",
       "   capital-gain  capital-loss  hours-per-week  native-country income  \n",
       "0       0.02174           0.0        0.397959   United-States  <=50K  \n",
       "1       0.00000           0.0        0.122449   United-States  <=50K  \n",
       "2       0.00000           0.0        0.397959   United-States  <=50K  \n",
       "3       0.00000           0.0        0.397959   United-States  <=50K  \n",
       "4       0.00000           0.0        0.397959            Cuba  <=50K  "
      ]
     },
     "metadata": {},
     "output_type": "display_data"
    },
    {
     "data": {
      "application/javascript": [
       "\n",
       "            setTimeout(function() {\n",
       "                var nbb_cell_id = 3;\n",
       "                var nbb_unformatted_code = \"# Import sklearn.preprocessing.StandardScaler\\nfrom sklearn.preprocessing import MinMaxScaler\\n\\n# Initialize a scaler, then apply it to the features\\nscaler = MinMaxScaler()  # default=(0, 1)\\nnumerical = [\\\"age\\\", \\\"education-num\\\", \\\"capital-gain\\\", \\\"capital-loss\\\", \\\"hours-per-week\\\"]\\n\\nfeatures_log_minmax_transform = pd.DataFrame(data=data)\\nfeatures_log_minmax_transform[numerical] = scaler.fit_transform(data[numerical])\\n\\n# Show an example of a record with scaling applied\\ndisplay(features_log_minmax_transform.head(n=5))\";\n",
       "                var nbb_formatted_code = \"# Import sklearn.preprocessing.StandardScaler\\nfrom sklearn.preprocessing import MinMaxScaler\\n\\n# Initialize a scaler, then apply it to the features\\nscaler = MinMaxScaler()  # default=(0, 1)\\nnumerical = [\\\"age\\\", \\\"education-num\\\", \\\"capital-gain\\\", \\\"capital-loss\\\", \\\"hours-per-week\\\"]\\n\\nfeatures_log_minmax_transform = pd.DataFrame(data=data)\\nfeatures_log_minmax_transform[numerical] = scaler.fit_transform(data[numerical])\\n\\n# Show an example of a record with scaling applied\\ndisplay(features_log_minmax_transform.head(n=5))\";\n",
       "                var nbb_cells = Jupyter.notebook.get_cells();\n",
       "                for (var i = 0; i < nbb_cells.length; ++i) {\n",
       "                    if (nbb_cells[i].input_prompt_number == nbb_cell_id) {\n",
       "                        if (nbb_cells[i].get_text() == nbb_unformatted_code) {\n",
       "                             nbb_cells[i].set_text(nbb_formatted_code);\n",
       "                        }\n",
       "                        break;\n",
       "                    }\n",
       "                }\n",
       "            }, 500);\n",
       "            "
      ],
      "text/plain": [
       "<IPython.core.display.Javascript object>"
      ]
     },
     "metadata": {},
     "output_type": "display_data"
    }
   ],
   "source": [
    "# Import sklearn.preprocessing.StandardScaler\n",
    "from sklearn.preprocessing import MinMaxScaler\n",
    "\n",
    "# Initialize a scaler, then apply it to the features\n",
    "scaler = MinMaxScaler()  # default=(0, 1)\n",
    "numerical = [\"age\", \"education-num\", \"capital-gain\", \"capital-loss\", \"hours-per-week\"]\n",
    "\n",
    "features_log_minmax_transform = pd.DataFrame(data=data)\n",
    "features_log_minmax_transform[numerical] = scaler.fit_transform(data[numerical])\n",
    "\n",
    "# Show an example of a record with scaling applied\n",
    "display(features_log_minmax_transform.head(n=5))"
   ]
  },
  {
   "cell_type": "markdown",
   "metadata": {},
   "source": [
    "### Implementation: Data Preprocessing\n",
    "\n",
    "We Use OHE( one hot encoding) for our colum with more than 2 classes and le(Labale ecoder) for our binary classes."
   ]
  },
  {
   "cell_type": "code",
   "execution_count": 4,
   "metadata": {},
   "outputs": [
    {
     "data": {
      "application/javascript": [
       "\n",
       "            setTimeout(function() {\n",
       "                var nbb_cell_id = 4;\n",
       "                var nbb_unformatted_code = \"from sklearn.preprocessing import LabelEncoder\\n\\n\\nle = LabelEncoder()\\ncat_cal = data.select_dtypes(include=[\\\"object\\\"]).columns\\nle_data = data.copy()\\nfor i in cat_cal:\\n    if len(le_data[i].unique()) <= 2:\\n        le_data[i] = le.fit_transform(le_data[i])\\nfeatures_final = pd.get_dummies(le_data)\";\n",
       "                var nbb_formatted_code = \"from sklearn.preprocessing import LabelEncoder\\n\\n\\nle = LabelEncoder()\\ncat_cal = data.select_dtypes(include=[\\\"object\\\"]).columns\\nle_data = data.copy()\\nfor i in cat_cal:\\n    if len(le_data[i].unique()) <= 2:\\n        le_data[i] = le.fit_transform(le_data[i])\\nfeatures_final = pd.get_dummies(le_data)\";\n",
       "                var nbb_cells = Jupyter.notebook.get_cells();\n",
       "                for (var i = 0; i < nbb_cells.length; ++i) {\n",
       "                    if (nbb_cells[i].input_prompt_number == nbb_cell_id) {\n",
       "                        if (nbb_cells[i].get_text() == nbb_unformatted_code) {\n",
       "                             nbb_cells[i].set_text(nbb_formatted_code);\n",
       "                        }\n",
       "                        break;\n",
       "                    }\n",
       "                }\n",
       "            }, 500);\n",
       "            "
      ],
      "text/plain": [
       "<IPython.core.display.Javascript object>"
      ]
     },
     "metadata": {},
     "output_type": "display_data"
    }
   ],
   "source": [
    "from sklearn.preprocessing import LabelEncoder\n",
    "\n",
    "\n",
    "le = LabelEncoder()\n",
    "cat_cal = data.select_dtypes(include=[\"object\"]).columns\n",
    "le_data = data.copy()\n",
    "for i in cat_cal:\n",
    "    if len(le_data[i].unique()) <= 2:\n",
    "        le_data[i] = le.fit_transform(le_data[i])\n",
    "features_final = pd.get_dummies(le_data)"
   ]
  },
  {
   "cell_type": "markdown",
   "metadata": {},
   "source": [
    "### Shuffle and Split Data\n",
    "Now all _categorical variables_ have been converted into numerical features, and all numerical features have been normalized. As always, we will now split the data (both features and their labels) into training and test sets. 80% of the data will be used for training and 20% for testing.\n",
    "\n",
    "Run the code cell below to perform this split."
   ]
  },
  {
   "cell_type": "code",
   "execution_count": 5,
   "metadata": {
    "scrolled": true
   },
   "outputs": [
    {
     "data": {
      "text/plain": [
       "(marital-status_ Never-married   -0.319536\n",
       " relationship_ Own-child         -0.222635\n",
       " relationship_ Not-in-family     -0.195561\n",
       " occupation_ Other-service       -0.165428\n",
       " relationship_ Unmarried         -0.147262\n",
       " Name: income, dtype: float64, age                                   0.237040\n",
       " education-num                         0.332800\n",
       " relationship_ Husband                 0.403706\n",
       " marital-status_ Married-civ-spouse    0.446192\n",
       " income                                1.000000\n",
       " Name: income, dtype: float64)"
      ]
     },
     "execution_count": 5,
     "metadata": {},
     "output_type": "execute_result"
    },
    {
     "data": {
      "application/javascript": [
       "\n",
       "            setTimeout(function() {\n",
       "                var nbb_cell_id = 5;\n",
       "                var nbb_unformatted_code = \"cor = features_final.corr()[\\\"income\\\"].sort_values()\\ncor.head(), cor.tail()\";\n",
       "                var nbb_formatted_code = \"cor = features_final.corr()[\\\"income\\\"].sort_values()\\ncor.head(), cor.tail()\";\n",
       "                var nbb_cells = Jupyter.notebook.get_cells();\n",
       "                for (var i = 0; i < nbb_cells.length; ++i) {\n",
       "                    if (nbb_cells[i].input_prompt_number == nbb_cell_id) {\n",
       "                        if (nbb_cells[i].get_text() == nbb_unformatted_code) {\n",
       "                             nbb_cells[i].set_text(nbb_formatted_code);\n",
       "                        }\n",
       "                        break;\n",
       "                    }\n",
       "                }\n",
       "            }, 500);\n",
       "            "
      ],
      "text/plain": [
       "<IPython.core.display.Javascript object>"
      ]
     },
     "metadata": {},
     "output_type": "display_data"
    }
   ],
   "source": [
    "cor = features_final.corr()[\"income\"].sort_values()\n",
    "cor.head(), cor.tail()"
   ]
  },
  {
   "cell_type": "code",
   "execution_count": 6,
   "metadata": {},
   "outputs": [
    {
     "data": {
      "application/javascript": [
       "\n",
       "            setTimeout(function() {\n",
       "                var nbb_cell_id = 6;\n",
       "                var nbb_unformatted_code = \"important_features = [value for key, value in zip(cor, cor.keys()) if abs(key) > 0.1]\";\n",
       "                var nbb_formatted_code = \"important_features = [value for key, value in zip(cor, cor.keys()) if abs(key) > 0.1]\";\n",
       "                var nbb_cells = Jupyter.notebook.get_cells();\n",
       "                for (var i = 0; i < nbb_cells.length; ++i) {\n",
       "                    if (nbb_cells[i].input_prompt_number == nbb_cell_id) {\n",
       "                        if (nbb_cells[i].get_text() == nbb_unformatted_code) {\n",
       "                             nbb_cells[i].set_text(nbb_formatted_code);\n",
       "                        }\n",
       "                        break;\n",
       "                    }\n",
       "                }\n",
       "            }, 500);\n",
       "            "
      ],
      "text/plain": [
       "<IPython.core.display.Javascript object>"
      ]
     },
     "metadata": {},
     "output_type": "display_data"
    }
   ],
   "source": [
    "important_features = [value for key, value in zip(cor, cor.keys()) if abs(key) > 0.1]"
   ]
  },
  {
   "cell_type": "code",
   "execution_count": 7,
   "metadata": {},
   "outputs": [
    {
     "data": {
      "application/javascript": [
       "\n",
       "            setTimeout(function() {\n",
       "                var nbb_cell_id = 7;\n",
       "                var nbb_unformatted_code = \"features = features_final[important_features].drop([\\\"income\\\"], axis=1)\\nincome = features_final[important_features][\\\"income\\\"]\";\n",
       "                var nbb_formatted_code = \"features = features_final[important_features].drop([\\\"income\\\"], axis=1)\\nincome = features_final[important_features][\\\"income\\\"]\";\n",
       "                var nbb_cells = Jupyter.notebook.get_cells();\n",
       "                for (var i = 0; i < nbb_cells.length; ++i) {\n",
       "                    if (nbb_cells[i].input_prompt_number == nbb_cell_id) {\n",
       "                        if (nbb_cells[i].get_text() == nbb_unformatted_code) {\n",
       "                             nbb_cells[i].set_text(nbb_formatted_code);\n",
       "                        }\n",
       "                        break;\n",
       "                    }\n",
       "                }\n",
       "            }, 500);\n",
       "            "
      ],
      "text/plain": [
       "<IPython.core.display.Javascript object>"
      ]
     },
     "metadata": {},
     "output_type": "display_data"
    }
   ],
   "source": [
    "features = features_final[important_features].drop([\"income\"], axis=1)\n",
    "income = features_final[important_features][\"income\"]"
   ]
  },
  {
   "cell_type": "code",
   "execution_count": 158,
   "metadata": {
    "scrolled": false
   },
   "outputs": [
    {
     "name": "stdout",
     "output_type": "stream",
     "text": [
      "Training set has 36177 samples.\n",
      "Testing set has 9045 samples.\n"
     ]
    },
    {
     "data": {
      "text/html": [
       "<div>\n",
       "<style scoped>\n",
       "    .dataframe tbody tr th:only-of-type {\n",
       "        vertical-align: middle;\n",
       "    }\n",
       "\n",
       "    .dataframe tbody tr th {\n",
       "        vertical-align: top;\n",
       "    }\n",
       "\n",
       "    .dataframe thead th {\n",
       "        text-align: right;\n",
       "    }\n",
       "</style>\n",
       "<table border=\"1\" class=\"dataframe\">\n",
       "  <thead>\n",
       "    <tr style=\"text-align: right;\">\n",
       "      <th></th>\n",
       "      <th>marital-status_ Never-married</th>\n",
       "      <th>relationship_ Own-child</th>\n",
       "      <th>relationship_ Not-in-family</th>\n",
       "      <th>occupation_ Other-service</th>\n",
       "      <th>relationship_ Unmarried</th>\n",
       "      <th>education_level_ HS-grad</th>\n",
       "      <th>marital-status_ Divorced</th>\n",
       "      <th>workclass_ Private</th>\n",
       "      <th>relationship_ Wife</th>\n",
       "      <th>education_level_ Doctorate</th>\n",
       "      <th>...</th>\n",
       "      <th>education_level_ Bachelors</th>\n",
       "      <th>occupation_ Prof-specialty</th>\n",
       "      <th>occupation_ Exec-managerial</th>\n",
       "      <th>sex</th>\n",
       "      <th>capital-gain</th>\n",
       "      <th>hours-per-week</th>\n",
       "      <th>age</th>\n",
       "      <th>education-num</th>\n",
       "      <th>relationship_ Husband</th>\n",
       "      <th>marital-status_ Married-civ-spouse</th>\n",
       "    </tr>\n",
       "  </thead>\n",
       "  <tbody>\n",
       "    <tr>\n",
       "      <th>7963</th>\n",
       "      <td>1</td>\n",
       "      <td>0</td>\n",
       "      <td>1</td>\n",
       "      <td>0</td>\n",
       "      <td>0</td>\n",
       "      <td>0</td>\n",
       "      <td>0</td>\n",
       "      <td>1</td>\n",
       "      <td>0</td>\n",
       "      <td>0</td>\n",
       "      <td>...</td>\n",
       "      <td>1</td>\n",
       "      <td>0</td>\n",
       "      <td>1</td>\n",
       "      <td>0</td>\n",
       "      <td>0.0</td>\n",
       "      <td>0.397959</td>\n",
       "      <td>0.205479</td>\n",
       "      <td>0.800000</td>\n",
       "      <td>0</td>\n",
       "      <td>0</td>\n",
       "    </tr>\n",
       "    <tr>\n",
       "      <th>26402</th>\n",
       "      <td>0</td>\n",
       "      <td>0</td>\n",
       "      <td>0</td>\n",
       "      <td>0</td>\n",
       "      <td>0</td>\n",
       "      <td>0</td>\n",
       "      <td>0</td>\n",
       "      <td>1</td>\n",
       "      <td>0</td>\n",
       "      <td>0</td>\n",
       "      <td>...</td>\n",
       "      <td>0</td>\n",
       "      <td>0</td>\n",
       "      <td>0</td>\n",
       "      <td>1</td>\n",
       "      <td>0.0</td>\n",
       "      <td>0.663265</td>\n",
       "      <td>0.383562</td>\n",
       "      <td>0.733333</td>\n",
       "      <td>1</td>\n",
       "      <td>1</td>\n",
       "    </tr>\n",
       "    <tr>\n",
       "      <th>31411</th>\n",
       "      <td>0</td>\n",
       "      <td>0</td>\n",
       "      <td>0</td>\n",
       "      <td>0</td>\n",
       "      <td>0</td>\n",
       "      <td>0</td>\n",
       "      <td>0</td>\n",
       "      <td>0</td>\n",
       "      <td>0</td>\n",
       "      <td>0</td>\n",
       "      <td>...</td>\n",
       "      <td>0</td>\n",
       "      <td>0</td>\n",
       "      <td>0</td>\n",
       "      <td>1</td>\n",
       "      <td>0.0</td>\n",
       "      <td>0.500000</td>\n",
       "      <td>0.383562</td>\n",
       "      <td>0.400000</td>\n",
       "      <td>1</td>\n",
       "      <td>1</td>\n",
       "    </tr>\n",
       "    <tr>\n",
       "      <th>13367</th>\n",
       "      <td>0</td>\n",
       "      <td>0</td>\n",
       "      <td>0</td>\n",
       "      <td>0</td>\n",
       "      <td>0</td>\n",
       "      <td>1</td>\n",
       "      <td>0</td>\n",
       "      <td>0</td>\n",
       "      <td>0</td>\n",
       "      <td>0</td>\n",
       "      <td>...</td>\n",
       "      <td>0</td>\n",
       "      <td>0</td>\n",
       "      <td>1</td>\n",
       "      <td>1</td>\n",
       "      <td>0.0</td>\n",
       "      <td>0.704082</td>\n",
       "      <td>0.301370</td>\n",
       "      <td>0.533333</td>\n",
       "      <td>1</td>\n",
       "      <td>1</td>\n",
       "    </tr>\n",
       "    <tr>\n",
       "      <th>38742</th>\n",
       "      <td>0</td>\n",
       "      <td>0</td>\n",
       "      <td>1</td>\n",
       "      <td>0</td>\n",
       "      <td>0</td>\n",
       "      <td>1</td>\n",
       "      <td>1</td>\n",
       "      <td>0</td>\n",
       "      <td>0</td>\n",
       "      <td>0</td>\n",
       "      <td>...</td>\n",
       "      <td>0</td>\n",
       "      <td>0</td>\n",
       "      <td>0</td>\n",
       "      <td>0</td>\n",
       "      <td>0.0</td>\n",
       "      <td>0.377551</td>\n",
       "      <td>0.465753</td>\n",
       "      <td>0.533333</td>\n",
       "      <td>0</td>\n",
       "      <td>0</td>\n",
       "    </tr>\n",
       "  </tbody>\n",
       "</table>\n",
       "<p>5 rows × 24 columns</p>\n",
       "</div>"
      ],
      "text/plain": [
       "       marital-status_ Never-married  relationship_ Own-child  \\\n",
       "7963                               1                        0   \n",
       "26402                              0                        0   \n",
       "31411                              0                        0   \n",
       "13367                              0                        0   \n",
       "38742                              0                        0   \n",
       "\n",
       "       relationship_ Not-in-family  occupation_ Other-service  \\\n",
       "7963                             1                          0   \n",
       "26402                            0                          0   \n",
       "31411                            0                          0   \n",
       "13367                            0                          0   \n",
       "38742                            1                          0   \n",
       "\n",
       "       relationship_ Unmarried  education_level_ HS-grad  \\\n",
       "7963                         0                         0   \n",
       "26402                        0                         0   \n",
       "31411                        0                         0   \n",
       "13367                        0                         1   \n",
       "38742                        0                         1   \n",
       "\n",
       "       marital-status_ Divorced  workclass_ Private  relationship_ Wife  \\\n",
       "7963                          0                   1                   0   \n",
       "26402                         0                   1                   0   \n",
       "31411                         0                   0                   0   \n",
       "13367                         0                   0                   0   \n",
       "38742                         1                   0                   0   \n",
       "\n",
       "       education_level_ Doctorate  ...  education_level_ Bachelors  \\\n",
       "7963                            0  ...                           1   \n",
       "26402                           0  ...                           0   \n",
       "31411                           0  ...                           0   \n",
       "13367                           0  ...                           0   \n",
       "38742                           0  ...                           0   \n",
       "\n",
       "       occupation_ Prof-specialty  occupation_ Exec-managerial  sex  \\\n",
       "7963                            0                            1    0   \n",
       "26402                           0                            0    1   \n",
       "31411                           0                            0    1   \n",
       "13367                           0                            1    1   \n",
       "38742                           0                            0    0   \n",
       "\n",
       "       capital-gain  hours-per-week       age  education-num  \\\n",
       "7963            0.0        0.397959  0.205479       0.800000   \n",
       "26402           0.0        0.663265  0.383562       0.733333   \n",
       "31411           0.0        0.500000  0.383562       0.400000   \n",
       "13367           0.0        0.704082  0.301370       0.533333   \n",
       "38742           0.0        0.377551  0.465753       0.533333   \n",
       "\n",
       "       relationship_ Husband  marital-status_ Married-civ-spouse  \n",
       "7963                       0                                   0  \n",
       "26402                      1                                   1  \n",
       "31411                      1                                   1  \n",
       "13367                      1                                   1  \n",
       "38742                      0                                   0  \n",
       "\n",
       "[5 rows x 24 columns]"
      ]
     },
     "execution_count": 158,
     "metadata": {},
     "output_type": "execute_result"
    },
    {
     "data": {
      "application/javascript": [
       "\n",
       "            setTimeout(function() {\n",
       "                var nbb_cell_id = 158;\n",
       "                var nbb_unformatted_code = \"# Split the 'features' and 'income' data into training and testing sets\\nX_train, X_test, y_train, y_test = train_test_split(\\n    features, income, test_size=0.2, random_state=42\\n)\\n\\n# Show the results of the split\\nprint(\\\"Training set has {} samples.\\\".format(X_train.shape[0]))\\nprint(\\\"Testing set has {} samples.\\\".format(X_test.shape[0]))\\nX_train.head()\";\n",
       "                var nbb_formatted_code = \"# Split the 'features' and 'income' data into training and testing sets\\nX_train, X_test, y_train, y_test = train_test_split(\\n    features, income, test_size=0.2, random_state=42\\n)\\n\\n# Show the results of the split\\nprint(\\\"Training set has {} samples.\\\".format(X_train.shape[0]))\\nprint(\\\"Testing set has {} samples.\\\".format(X_test.shape[0]))\\nX_train.head()\";\n",
       "                var nbb_cells = Jupyter.notebook.get_cells();\n",
       "                for (var i = 0; i < nbb_cells.length; ++i) {\n",
       "                    if (nbb_cells[i].input_prompt_number == nbb_cell_id) {\n",
       "                        if (nbb_cells[i].get_text() == nbb_unformatted_code) {\n",
       "                             nbb_cells[i].set_text(nbb_formatted_code);\n",
       "                        }\n",
       "                        break;\n",
       "                    }\n",
       "                }\n",
       "            }, 500);\n",
       "            "
      ],
      "text/plain": [
       "<IPython.core.display.Javascript object>"
      ]
     },
     "metadata": {},
     "output_type": "display_data"
    }
   ],
   "source": [
    "# Split the 'features' and 'income' data into training and testing sets\n",
    "X_train, X_test, y_train, y_test = train_test_split(\n",
    "    features, income, test_size=0.2, random_state=42\n",
    ")\n",
    "\n",
    "# Show the results of the split\n",
    "print(\"Training set has {} samples.\".format(X_train.shape[0]))\n",
    "print(\"Testing set has {} samples.\".format(X_test.shape[0]))\n",
    "X_train.head()"
   ]
  },
  {
   "cell_type": "markdown",
   "metadata": {},
   "source": [
    "----\n",
    "## Evaluating Model Performance\n"
   ]
  },
  {
   "cell_type": "markdown",
   "metadata": {},
   "source": [
    "###  Supervised Learning Models\n",
    "**The following are some of the supervised learning models that are currently available in** [`scikit-learn`](http://scikit-learn.org/stable/supervised_learning.html) **that you may choose from:**\n",
    "- Gaussian Naive Bayes (GaussianNB)\n",
    "- Decision Trees\n",
    "- Ensemble Methods (Bagging, AdaBoost, Random Forest, Gradient Boosting)\n",
    "- K-Nearest Neighbors (KNeighbors)\n",
    "- Stochastic Gradient Descent Classifier (SGDC)\n",
    "- Support Vector Machines (SVM)\n",
    "- Logistic Regression"
   ]
  },
  {
   "cell_type": "markdown",
   "metadata": {},
   "source": [
    "### Implementation - Creating a Training and Predicting Pipeline\n",
    "To properly evaluate the performance of each model you've chosen, it's important that you create a training and predicting pipeline that allows you to quickly and effectively train models using various sizes of training data and perform predictions on the testing data. Your implementation here will be used in the following section.\n",
    "In the code block below, you will need to implement the following:\n",
    " - Import `fbeta_score` and `accuracy_score` from [`sklearn.metrics`](http://scikit-learn.org/stable/modules/classes.html#sklearn-metrics-metrics).\n",
    " - Fit the learner to the sampled training data and record the training time.\n",
    " - Perform predictions on the test data `X_test`, and also on the first 300 training points `X_train[:300]`.\n",
    "   - Record the total prediction time.\n",
    " - Calculate the accuracy score for both the training subset and testing set.\n",
    " - Calculate the F-score for both the training subset and testing set.\n",
    "   - Make sure that you set the `beta` parameter!"
   ]
  },
  {
   "cell_type": "code",
   "execution_count": 43,
   "metadata": {},
   "outputs": [
    {
     "data": {
      "application/javascript": [
       "\n",
       "            setTimeout(function() {\n",
       "                var nbb_cell_id = 43;\n",
       "                var nbb_unformatted_code = \"from sklearn.metrics import fbeta_score, accuracy_score\\n\\n\\ndef train_predict(learner, sample_size, X_train, y_train, X_test, y_test):\\n    \\\"\\\"\\\"\\n    inputs:\\n       - learner: the learning algorithm to be trained and predicted on\\n       - sample_size: the size of samples (number) to be drawn from training set\\n       - X_train: features training set\\n       - y_train: income training set\\n       - X_test: features testing set\\n       - y_test: income testing set\\n    \\\"\\\"\\\"\\n    beta = 0.5\\n    results = {}\\n\\n    # Fit the learner to the training data using slicing with 'sample_size' using .fit(training_features[:], training_labels[:])\\n    start = time()  # Get start time\\n    learner.fit(X_train, y_train)\\n    end = time()  # Get end time\\n    # Calculate the training time\\n    results[\\\"train_time\\\"] = end - start\\n\\n    # Get the predictions on the test set(X_test),\\n    #       then get predictions on the first 300 training samples(X_train) using .predict()\\n    start = time()  # Get start time\\n    predictions_test = learner.predict(X_test)\\n    predictions_train = learner.predict(X_train)\\n    end = time()  # Get end time\\n\\n    # Calculate the total prediction time\\n    results[\\\"test_time\\\"] = end - start\\n\\n    # Compute accuracy on the first 300 training samples which is y_train[:300]\\n    results[\\\"acc_train\\\"] = accuracy_score(y_train, predictions_train)\\n\\n    # Compute accuracy on test set using accuracy_score()\\n    results[\\\"acc_test\\\"] = accuracy_score(y_test, predictions_test)\\n\\n    # Compute F-score on the the first 300 training samples using fbeta_score()\\n    results[\\\"f_train\\\"] = fbeta_score(y_train, predictions_train, beta=beta)\\n\\n    # Compute F-score on the test set which is y_test\\n    results[\\\"f_test\\\"] = fbeta_score(y_test, predictions_test, beta=beta)\\n\\n    # Success\\n    print(\\\"{} trained on {} samples.\\\".format(learner.__class__.__name__, sample_size))\\n\\n    # Return the results\\n    return results\";\n",
       "                var nbb_formatted_code = \"from sklearn.metrics import fbeta_score, accuracy_score\\n\\n\\ndef train_predict(learner, sample_size, X_train, y_train, X_test, y_test):\\n    \\\"\\\"\\\"\\n    inputs:\\n       - learner: the learning algorithm to be trained and predicted on\\n       - sample_size: the size of samples (number) to be drawn from training set\\n       - X_train: features training set\\n       - y_train: income training set\\n       - X_test: features testing set\\n       - y_test: income testing set\\n    \\\"\\\"\\\"\\n    beta = 0.5\\n    results = {}\\n\\n    # Fit the learner to the training data using slicing with 'sample_size' using .fit(training_features[:], training_labels[:])\\n    start = time()  # Get start time\\n    learner.fit(X_train, y_train)\\n    end = time()  # Get end time\\n    # Calculate the training time\\n    results[\\\"train_time\\\"] = end - start\\n\\n    # Get the predictions on the test set(X_test),\\n    #       then get predictions on the first 300 training samples(X_train) using .predict()\\n    start = time()  # Get start time\\n    predictions_test = learner.predict(X_test)\\n    predictions_train = learner.predict(X_train)\\n    end = time()  # Get end time\\n\\n    # Calculate the total prediction time\\n    results[\\\"test_time\\\"] = end - start\\n\\n    # Compute accuracy on the first 300 training samples which is y_train[:300]\\n    results[\\\"acc_train\\\"] = accuracy_score(y_train, predictions_train)\\n\\n    # Compute accuracy on test set using accuracy_score()\\n    results[\\\"acc_test\\\"] = accuracy_score(y_test, predictions_test)\\n\\n    # Compute F-score on the the first 300 training samples using fbeta_score()\\n    results[\\\"f_train\\\"] = fbeta_score(y_train, predictions_train, beta=beta)\\n\\n    # Compute F-score on the test set which is y_test\\n    results[\\\"f_test\\\"] = fbeta_score(y_test, predictions_test, beta=beta)\\n\\n    # Success\\n    print(\\\"{} trained on {} samples.\\\".format(learner.__class__.__name__, sample_size))\\n\\n    # Return the results\\n    return results\";\n",
       "                var nbb_cells = Jupyter.notebook.get_cells();\n",
       "                for (var i = 0; i < nbb_cells.length; ++i) {\n",
       "                    if (nbb_cells[i].input_prompt_number == nbb_cell_id) {\n",
       "                        if (nbb_cells[i].get_text() == nbb_unformatted_code) {\n",
       "                             nbb_cells[i].set_text(nbb_formatted_code);\n",
       "                        }\n",
       "                        break;\n",
       "                    }\n",
       "                }\n",
       "            }, 500);\n",
       "            "
      ],
      "text/plain": [
       "<IPython.core.display.Javascript object>"
      ]
     },
     "metadata": {},
     "output_type": "display_data"
    }
   ],
   "source": [
    "from sklearn.metrics import fbeta_score, accuracy_score\n",
    "\n",
    "\n",
    "def train_predict(learner, sample_size, X_train, y_train, X_test, y_test):\n",
    "    \"\"\"\n",
    "    inputs:\n",
    "       - learner: the learning algorithm to be trained and predicted on\n",
    "       - sample_size: the size of samples (number) to be drawn from training set\n",
    "       - X_train: features training set\n",
    "       - y_train: income training set\n",
    "       - X_test: features testing set\n",
    "       - y_test: income testing set\n",
    "    \"\"\"\n",
    "    beta = 0.5\n",
    "    results = {}\n",
    "\n",
    "    # Fit the learner to the training data using slicing with 'sample_size' using .fit(training_features[:], training_labels[:])\n",
    "    start = time()  # Get start time\n",
    "    learner.fit(X_train, y_train)\n",
    "    end = time()  # Get end time\n",
    "    # Calculate the training time\n",
    "    results[\"train_time\"] = end - start\n",
    "\n",
    "    # Get the predictions on the test set(X_test),\n",
    "    #       then get predictions on the first 300 training samples(X_train) using .predict()\n",
    "    start = time()  # Get start time\n",
    "    predictions_test = learner.predict(X_test)\n",
    "    predictions_train = learner.predict(X_train)\n",
    "    end = time()  # Get end time\n",
    "\n",
    "    # Calculate the total prediction time\n",
    "    results[\"test_time\"] = end - start\n",
    "\n",
    "    # Compute accuracy on the first 300 training samples which is y_train[:300]\n",
    "    results[\"acc_train\"] = accuracy_score(y_train, predictions_train)\n",
    "\n",
    "    # Compute accuracy on test set using accuracy_score()\n",
    "    results[\"acc_test\"] = accuracy_score(y_test, predictions_test)\n",
    "\n",
    "    # Compute F-score on the the first 300 training samples using fbeta_score()\n",
    "    results[\"f_train\"] = fbeta_score(y_train, predictions_train, beta=beta)\n",
    "\n",
    "    # Compute F-score on the test set which is y_test\n",
    "    results[\"f_test\"] = fbeta_score(y_test, predictions_test, beta=beta)\n",
    "\n",
    "    # Success\n",
    "    print(\"{} trained on {} samples.\".format(learner.__class__.__name__, sample_size))\n",
    "\n",
    "    # Return the results\n",
    "    return results"
   ]
  },
  {
   "cell_type": "markdown",
   "metadata": {},
   "source": [
    "### Implementation: Initial Model Evaluation\n",
    "In the code cell, you will need to implement the following:\n",
    "- Import the three supervised learning models you've discussed in the previous section.\n",
    "- Initialize the three models and store them in `'clf_A'`, `'clf_B'`, and `'clf_C'`.\n",
    "  - Use a `'random_state'` for each model you use, if provided.\n",
    "  - **Note:** Use the default settings for each model — you will tune one specific model in a later section.\n",
    "- Calculate the number of records equal to 1%, 10%, and 100% of the training data.\n",
    "  - Store those values in `'samples_1'`, `'samples_10'`, and `'samples_100'` respectively.\n",
    "\n",
    "**Note:** Depending on which algorithms you chose, the following implementation may take some time to run!"
   ]
  },
  {
   "cell_type": "code",
   "execution_count": 159,
   "metadata": {},
   "outputs": [
    {
     "name": "stdout",
     "output_type": "stream",
     "text": [
      "GaussianNB trained on 361 samples.\n",
      "GaussianNB trained on 3617 samples.\n",
      "GaussianNB trained on 36177 samples.\n",
      "SVC trained on 361 samples.\n",
      "SVC trained on 3617 samples.\n",
      "SVC trained on 36177 samples.\n",
      "AdaBoostClassifier trained on 361 samples.\n",
      "AdaBoostClassifier trained on 3617 samples.\n",
      "AdaBoostClassifier trained on 36177 samples.\n",
      "XGBClassifier trained on 361 samples.\n",
      "XGBClassifier trained on 3617 samples.\n",
      "XGBClassifier trained on 36177 samples.\n",
      "LGBMClassifier trained on 361 samples.\n",
      "LGBMClassifier trained on 3617 samples.\n",
      "LGBMClassifier trained on 36177 samples.\n"
     ]
    },
    {
     "data": {
      "application/javascript": [
       "\n",
       "            setTimeout(function() {\n",
       "                var nbb_cell_id = 159;\n",
       "                var nbb_unformatted_code = \"# TODO: Import the three supervised learning models from sklearn\\nfrom sklearn.naive_bayes import GaussianNB\\nfrom sklearn.svm import SVC\\nfrom sklearn.ensemble import AdaBoostClassifier\\nimport xgboost as xgb\\nfrom xgboost.sklearn import XGBClassifier\\nfrom sklearn.model_selection import GridSearchCV\\nfrom lightgbm import LGBMClassifier\\n\\n# TODO: Initialize the three models\\nclf_A = GaussianNB()\\nclf_B = SVC(random_state=42)\\nclf_C = AdaBoostClassifier(random_state=42)\\nclf_D = XGBClassifier(random_state=42)\\nclf_E = LGBMClassifier(random_state=42)\\n\\n\\n# TODO: Calculate the number of samples for 1%, 10%, and 100% of the training data\\n# HINT: samples_100 is the entire training set i.e. len(y_train)\\n# HINT: samples_10 is 10% of samples_100 (ensure to set the count of the values to be `int` and not `float`)\\n# HINT: samples_1 is 1% of samples_100 (ensure to set the count of the values to be `int` and not `float`)\\nsamples_100 = len(y_train)\\nsamples_10 = int(0.1 * len(y_train))\\nsamples_1 = int(0.01 * len(y_train))\\n\\n# Collect results on the learners\\nresults1 = {}\\nfor clf in [clf_A, clf_B, clf_C, clf_D, clf_E]:\\n    clf_name = clf.__class__.__name__\\n    results1[clf_name] = {}\\n    for i, samples in enumerate([samples_1, samples_10, samples_100]):\\n        results1[clf_name][i] = train_predict(\\n            clf, samples, X_train, y_train, X_test, y_test\\n        )\\n\\n# Run metrics visualization for the three supervised learning models chosen\\n# vs.evaluate(results, accuracy, fscore)\";\n",
       "                var nbb_formatted_code = \"# TODO: Import the three supervised learning models from sklearn\\nfrom sklearn.naive_bayes import GaussianNB\\nfrom sklearn.svm import SVC\\nfrom sklearn.ensemble import AdaBoostClassifier\\nimport xgboost as xgb\\nfrom xgboost.sklearn import XGBClassifier\\nfrom sklearn.model_selection import GridSearchCV\\nfrom lightgbm import LGBMClassifier\\n\\n# TODO: Initialize the three models\\nclf_A = GaussianNB()\\nclf_B = SVC(random_state=42)\\nclf_C = AdaBoostClassifier(random_state=42)\\nclf_D = XGBClassifier(random_state=42)\\nclf_E = LGBMClassifier(random_state=42)\\n\\n\\n# TODO: Calculate the number of samples for 1%, 10%, and 100% of the training data\\n# HINT: samples_100 is the entire training set i.e. len(y_train)\\n# HINT: samples_10 is 10% of samples_100 (ensure to set the count of the values to be `int` and not `float`)\\n# HINT: samples_1 is 1% of samples_100 (ensure to set the count of the values to be `int` and not `float`)\\nsamples_100 = len(y_train)\\nsamples_10 = int(0.1 * len(y_train))\\nsamples_1 = int(0.01 * len(y_train))\\n\\n# Collect results on the learners\\nresults1 = {}\\nfor clf in [clf_A, clf_B, clf_C, clf_D, clf_E]:\\n    clf_name = clf.__class__.__name__\\n    results1[clf_name] = {}\\n    for i, samples in enumerate([samples_1, samples_10, samples_100]):\\n        results1[clf_name][i] = train_predict(\\n            clf, samples, X_train, y_train, X_test, y_test\\n        )\\n\\n# Run metrics visualization for the three supervised learning models chosen\\n# vs.evaluate(results, accuracy, fscore)\";\n",
       "                var nbb_cells = Jupyter.notebook.get_cells();\n",
       "                for (var i = 0; i < nbb_cells.length; ++i) {\n",
       "                    if (nbb_cells[i].input_prompt_number == nbb_cell_id) {\n",
       "                        if (nbb_cells[i].get_text() == nbb_unformatted_code) {\n",
       "                             nbb_cells[i].set_text(nbb_formatted_code);\n",
       "                        }\n",
       "                        break;\n",
       "                    }\n",
       "                }\n",
       "            }, 500);\n",
       "            "
      ],
      "text/plain": [
       "<IPython.core.display.Javascript object>"
      ]
     },
     "metadata": {},
     "output_type": "display_data"
    }
   ],
   "source": [
    "# TODO: Import the three supervised learning models from sklearn\n",
    "from sklearn.naive_bayes import GaussianNB\n",
    "from sklearn.svm import SVC\n",
    "from sklearn.ensemble import AdaBoostClassifier\n",
    "import xgboost as xgb\n",
    "from xgboost.sklearn import XGBClassifier\n",
    "from sklearn.model_selection import GridSearchCV\n",
    "from lightgbm import LGBMClassifier\n",
    "\n",
    "# TODO: Initialize the three models\n",
    "clf_A = GaussianNB()\n",
    "clf_B = SVC(random_state=42)\n",
    "clf_C = AdaBoostClassifier(random_state=42)\n",
    "clf_D = XGBClassifier(random_state=42)\n",
    "clf_E = LGBMClassifier(random_state=42)\n",
    "\n",
    "\n",
    "# TODO: Calculate the number of samples for 1%, 10%, and 100% of the training data\n",
    "# HINT: samples_100 is the entire training set i.e. len(y_train)\n",
    "# HINT: samples_10 is 10% of samples_100 (ensure to set the count of the values to be `int` and not `float`)\n",
    "# HINT: samples_1 is 1% of samples_100 (ensure to set the count of the values to be `int` and not `float`)\n",
    "samples_100 = len(y_train)\n",
    "samples_10 = int(0.1 * len(y_train))\n",
    "samples_1 = int(0.01 * len(y_train))\n",
    "\n",
    "# Collect results on the learners\n",
    "results1 = {}\n",
    "for clf in [clf_A, clf_B, clf_C, clf_D, clf_E]:\n",
    "    clf_name = clf.__class__.__name__\n",
    "    results1[clf_name] = {}\n",
    "    for i, samples in enumerate([samples_1, samples_10, samples_100]):\n",
    "        results1[clf_name][i] = train_predict(\n",
    "            clf, samples, X_train, y_train, X_test, y_test\n",
    "        )\n",
    "\n",
    "# Run metrics visualization for the three supervised learning models chosen\n",
    "# vs.evaluate(results, accuracy, fscore)"
   ]
  },
  {
   "cell_type": "code",
   "execution_count": 150,
   "metadata": {},
   "outputs": [
    {
     "data": {
      "text/html": [
       "<div>\n",
       "<style scoped>\n",
       "    .dataframe tbody tr th:only-of-type {\n",
       "        vertical-align: middle;\n",
       "    }\n",
       "\n",
       "    .dataframe tbody tr th {\n",
       "        vertical-align: top;\n",
       "    }\n",
       "\n",
       "    .dataframe thead th {\n",
       "        text-align: right;\n",
       "    }\n",
       "</style>\n",
       "<table border=\"1\" class=\"dataframe\">\n",
       "  <thead>\n",
       "    <tr style=\"text-align: right;\">\n",
       "      <th></th>\n",
       "      <th>model</th>\n",
       "      <th>variable</th>\n",
       "      <th>value</th>\n",
       "    </tr>\n",
       "  </thead>\n",
       "  <tbody>\n",
       "    <tr>\n",
       "      <th>0</th>\n",
       "      <td>GaussianNB</td>\n",
       "      <td>train_time</td>\n",
       "      <td>0.183772</td>\n",
       "    </tr>\n",
       "    <tr>\n",
       "      <th>1</th>\n",
       "      <td>GaussianNB</td>\n",
       "      <td>test_time</td>\n",
       "      <td>0.105744</td>\n",
       "    </tr>\n",
       "    <tr>\n",
       "      <th>2</th>\n",
       "      <td>GaussianNB</td>\n",
       "      <td>acc_train</td>\n",
       "      <td>0.627277</td>\n",
       "    </tr>\n",
       "    <tr>\n",
       "      <th>3</th>\n",
       "      <td>GaussianNB</td>\n",
       "      <td>acc_test</td>\n",
       "      <td>0.635489</td>\n",
       "    </tr>\n",
       "    <tr>\n",
       "      <th>4</th>\n",
       "      <td>GaussianNB</td>\n",
       "      <td>f_train</td>\n",
       "      <td>0.442006</td>\n",
       "    </tr>\n",
       "  </tbody>\n",
       "</table>\n",
       "</div>"
      ],
      "text/plain": [
       "        model    variable     value\n",
       "0  GaussianNB  train_time  0.183772\n",
       "1  GaussianNB   test_time  0.105744\n",
       "2  GaussianNB   acc_train  0.627277\n",
       "3  GaussianNB    acc_test  0.635489\n",
       "4  GaussianNB     f_train  0.442006"
      ]
     },
     "execution_count": 150,
     "metadata": {},
     "output_type": "execute_result"
    },
    {
     "data": {
      "application/javascript": [
       "\n",
       "            setTimeout(function() {\n",
       "                var nbb_cell_id = 150;\n",
       "                var nbb_unformatted_code = \"variable = {\\\"model\\\": [], \\\"variable\\\": [], \\\"value\\\": []}\\nfor i in results1.keys():\\n    for j in results1[i]:\\n        for z in results1[i][j]:\\n            variable[\\\"model\\\"].append(i)\\n            variable[\\\"variable\\\"].append(z)\\n            variable[\\\"value\\\"].append(results1[i][j][z])\\ndf1 = pd.DataFrame(variable)\\ndf1.head()\";\n",
       "                var nbb_formatted_code = \"variable = {\\\"model\\\": [], \\\"variable\\\": [], \\\"value\\\": []}\\nfor i in results1.keys():\\n    for j in results1[i]:\\n        for z in results1[i][j]:\\n            variable[\\\"model\\\"].append(i)\\n            variable[\\\"variable\\\"].append(z)\\n            variable[\\\"value\\\"].append(results1[i][j][z])\\ndf1 = pd.DataFrame(variable)\\ndf1.head()\";\n",
       "                var nbb_cells = Jupyter.notebook.get_cells();\n",
       "                for (var i = 0; i < nbb_cells.length; ++i) {\n",
       "                    if (nbb_cells[i].input_prompt_number == nbb_cell_id) {\n",
       "                        if (nbb_cells[i].get_text() == nbb_unformatted_code) {\n",
       "                             nbb_cells[i].set_text(nbb_formatted_code);\n",
       "                        }\n",
       "                        break;\n",
       "                    }\n",
       "                }\n",
       "            }, 500);\n",
       "            "
      ],
      "text/plain": [
       "<IPython.core.display.Javascript object>"
      ]
     },
     "metadata": {},
     "output_type": "display_data"
    }
   ],
   "source": [
    "variable = {\"model\": [], \"variable\": [], \"value\": []}\n",
    "for i in results1.keys():\n",
    "    for j in results1[i]:\n",
    "        for z in results1[i][j]:\n",
    "            variable[\"model\"].append(i)\n",
    "            variable[\"variable\"].append(z)\n",
    "            variable[\"value\"].append(results1[i][j][z])\n",
    "df1 = pd.DataFrame(variable)\n",
    "df1.head()"
   ]
  },
  {
   "cell_type": "code",
   "execution_count": 151,
   "metadata": {
    "scrolled": false
   },
   "outputs": [
    {
     "data": {
      "image/png": "[encoded data removed]",
      "text/plain": [
       "<Figure size 2000x2000 with 3 Axes>"
      ]
     },
     "metadata": {
      "needs_background": "light"
     },
     "output_type": "display_data"
    },
    {
     "data": {
      "application/javascript": [
       "\n",
       "            setTimeout(function() {\n",
       "                var nbb_cell_id = 151;\n",
       "                var nbb_unformatted_code = \"fig = plt.figure(dpi=100, figsize=(20, 20))\\ny_ax = [\\n    [\\\"train_time\\\", \\\"test_time\\\", \\\"time in second\\\"],\\n    [\\\"acc_train\\\", \\\"acc_test\\\", \\\"accuracy\\\"],\\n    [\\\"f_train\\\", \\\"f_test\\\", \\\"f-score\\\"],\\n]\\nfor i in range(3):\\n    ax = fig.add_subplot(331 + i)\\n    plt.title(y_ax[i][0] + \\\" / \\\" + y_ax[i][1], size=20)\\n    rf = df1[(df1[\\\"variable\\\"] == y_ax[i][0]) | (df1[\\\"variable\\\"] == y_ax[i][1])]\\n    sns.swarmplot(\\n        data=rf, x=\\\"model\\\", y=\\\"value\\\", hue=\\\"variable\\\", palette=[\\\"r\\\", \\\"g\\\"],\\n    )\\n    plt.legend()\\n    plt.ylabel(y_ax[i][2], fontsize=15)\\n    plt.xlabel(\\\"\\\")\\n    plt.xticks(rotation=-75, size=15)\\n    plt.yticks(size=15)\\n\\nplt.show()\";\n",
       "                var nbb_formatted_code = \"fig = plt.figure(dpi=100, figsize=(20, 20))\\ny_ax = [\\n    [\\\"train_time\\\", \\\"test_time\\\", \\\"time in second\\\"],\\n    [\\\"acc_train\\\", \\\"acc_test\\\", \\\"accuracy\\\"],\\n    [\\\"f_train\\\", \\\"f_test\\\", \\\"f-score\\\"],\\n]\\nfor i in range(3):\\n    ax = fig.add_subplot(331 + i)\\n    plt.title(y_ax[i][0] + \\\" / \\\" + y_ax[i][1], size=20)\\n    rf = df1[(df1[\\\"variable\\\"] == y_ax[i][0]) | (df1[\\\"variable\\\"] == y_ax[i][1])]\\n    sns.swarmplot(\\n        data=rf, x=\\\"model\\\", y=\\\"value\\\", hue=\\\"variable\\\", palette=[\\\"r\\\", \\\"g\\\"],\\n    )\\n    plt.legend()\\n    plt.ylabel(y_ax[i][2], fontsize=15)\\n    plt.xlabel(\\\"\\\")\\n    plt.xticks(rotation=-75, size=15)\\n    plt.yticks(size=15)\\n\\nplt.show()\";\n",
       "                var nbb_cells = Jupyter.notebook.get_cells();\n",
       "                for (var i = 0; i < nbb_cells.length; ++i) {\n",
       "                    if (nbb_cells[i].input_prompt_number == nbb_cell_id) {\n",
       "                        if (nbb_cells[i].get_text() == nbb_unformatted_code) {\n",
       "                             nbb_cells[i].set_text(nbb_formatted_code);\n",
       "                        }\n",
       "                        break;\n",
       "                    }\n",
       "                }\n",
       "            }, 500);\n",
       "            "
      ],
      "text/plain": [
       "<IPython.core.display.Javascript object>"
      ]
     },
     "metadata": {},
     "output_type": "display_data"
    }
   ],
   "source": [
    "fig = plt.figure(dpi=100, figsize=(20, 20))\n",
    "y_ax = [\n",
    "    [\"train_time\", \"test_time\", \"time in second\"],\n",
    "    [\"acc_train\", \"acc_test\", \"accuracy\"],\n",
    "    [\"f_train\", \"f_test\", \"f-score\"],\n",
    "]\n",
    "for i in range(3):\n",
    "    ax = fig.add_subplot(331 + i)\n",
    "    plt.title(y_ax[i][0] + \" / \" + y_ax[i][1], size=20)\n",
    "    rf = df1[(df1[\"variable\"] == y_ax[i][0]) | (df1[\"variable\"] == y_ax[i][1])]\n",
    "    sns.swarmplot(\n",
    "        data=rf, x=\"model\", y=\"value\", hue=\"variable\", palette=[\"r\", \"g\"],\n",
    "    )\n",
    "    plt.legend()\n",
    "    plt.ylabel(y_ax[i][2], fontsize=15)\n",
    "    plt.xlabel(\"\")\n",
    "    plt.xticks(rotation=-75, size=15)\n",
    "    plt.yticks(size=15)\n",
    "\n",
    "plt.show()"
   ]
  },
  {
   "cell_type": "markdown",
   "metadata": {},
   "source": [
    "In the above investigate five classification models were evaluated. The best model is Light gradient boost in both accuracy and f-score metrics. In the training time we see that SVC performs awful .\n",
    "so we go farther to see with model do the best in timing measure"
   ]
  },
  {
   "cell_type": "markdown",
   "metadata": {},
   "source": [
    "and also assume LGBM slighty tends to overfit maybe in different datasets so you should be careful and better to tune the model"
   ]
  },
  {
   "cell_type": "code",
   "execution_count": 152,
   "metadata": {},
   "outputs": [
    {
     "data": {
      "image/png": "[encoded data removed]",
      "text/plain": [
       "<Figure size 600x400 with 1 Axes>"
      ]
     },
     "metadata": {
      "needs_background": "light"
     },
     "output_type": "display_data"
    },
    {
     "data": {
      "application/javascript": [
       "\n",
       "            setTimeout(function() {\n",
       "                var nbb_cell_id = 152;\n",
       "                var nbb_unformatted_code = \"rf = df1[(df1[\\\"variable\\\"] == \\\"test_time\\\") | (df1[\\\"variable\\\"] == \\\"train_time\\\")]\\n\\nplt.figure(dpi=100)\\nsns.swarmplot(data=rf[rf.model != \\\"SVC\\\"], x=\\\"model\\\", y=\\\"value\\\", hue=\\\"variable\\\")\\nplt.xticks(rotation=-45)\\nplt.show()\";\n",
       "                var nbb_formatted_code = \"rf = df1[(df1[\\\"variable\\\"] == \\\"test_time\\\") | (df1[\\\"variable\\\"] == \\\"train_time\\\")]\\n\\nplt.figure(dpi=100)\\nsns.swarmplot(data=rf[rf.model != \\\"SVC\\\"], x=\\\"model\\\", y=\\\"value\\\", hue=\\\"variable\\\")\\nplt.xticks(rotation=-45)\\nplt.show()\";\n",
       "                var nbb_cells = Jupyter.notebook.get_cells();\n",
       "                for (var i = 0; i < nbb_cells.length; ++i) {\n",
       "                    if (nbb_cells[i].input_prompt_number == nbb_cell_id) {\n",
       "                        if (nbb_cells[i].get_text() == nbb_unformatted_code) {\n",
       "                             nbb_cells[i].set_text(nbb_formatted_code);\n",
       "                        }\n",
       "                        break;\n",
       "                    }\n",
       "                }\n",
       "            }, 500);\n",
       "            "
      ],
      "text/plain": [
       "<IPython.core.display.Javascript object>"
      ]
     },
     "metadata": {},
     "output_type": "display_data"
    }
   ],
   "source": [
    "rf = df1[(df1[\"variable\"] == \"test_time\") | (df1[\"variable\"] == \"train_time\")]\n",
    "\n",
    "plt.figure(dpi=100)\n",
    "sns.swarmplot(data=rf[rf.model != \"SVC\"], x=\"model\", y=\"value\", hue=\"variable\")\n",
    "plt.xticks(rotation=-45)\n",
    "plt.show()"
   ]
  },
  {
   "cell_type": "markdown",
   "metadata": {},
   "source": [
    "the best model in training time is Gussain and lgbm respectively"
   ]
  },
  {
   "cell_type": "markdown",
   "metadata": {},
   "source": [
    "###### Say we've used the models wihtout any tuning so they should be act difference with using hyper parameter"
   ]
  },
  {
   "cell_type": "markdown",
   "metadata": {},
   "source": [
    "I want to do all this levels with all features"
   ]
  },
  {
   "cell_type": "code",
   "execution_count": 141,
   "metadata": {
    "scrolled": true
   },
   "outputs": [
    {
     "name": "stdout",
     "output_type": "stream",
     "text": [
      "Training set has 36177 samples.\n",
      "Testing set has 9045 samples.\n"
     ]
    },
    {
     "data": {
      "text/html": [
       "<div>\n",
       "<style scoped>\n",
       "    .dataframe tbody tr th:only-of-type {\n",
       "        vertical-align: middle;\n",
       "    }\n",
       "\n",
       "    .dataframe tbody tr th {\n",
       "        vertical-align: top;\n",
       "    }\n",
       "\n",
       "    .dataframe thead th {\n",
       "        text-align: right;\n",
       "    }\n",
       "</style>\n",
       "<table border=\"1\" class=\"dataframe\">\n",
       "  <thead>\n",
       "    <tr style=\"text-align: right;\">\n",
       "      <th></th>\n",
       "      <th>age</th>\n",
       "      <th>education-num</th>\n",
       "      <th>sex</th>\n",
       "      <th>capital-gain</th>\n",
       "      <th>capital-loss</th>\n",
       "      <th>hours-per-week</th>\n",
       "      <th>workclass_ Federal-gov</th>\n",
       "      <th>workclass_ Local-gov</th>\n",
       "      <th>workclass_ Private</th>\n",
       "      <th>workclass_ Self-emp-inc</th>\n",
       "      <th>...</th>\n",
       "      <th>native-country_ Portugal</th>\n",
       "      <th>native-country_ Puerto-Rico</th>\n",
       "      <th>native-country_ Scotland</th>\n",
       "      <th>native-country_ South</th>\n",
       "      <th>native-country_ Taiwan</th>\n",
       "      <th>native-country_ Thailand</th>\n",
       "      <th>native-country_ Trinadad&amp;Tobago</th>\n",
       "      <th>native-country_ United-States</th>\n",
       "      <th>native-country_ Vietnam</th>\n",
       "      <th>native-country_ Yugoslavia</th>\n",
       "    </tr>\n",
       "  </thead>\n",
       "  <tbody>\n",
       "    <tr>\n",
       "      <th>7963</th>\n",
       "      <td>0.205479</td>\n",
       "      <td>0.800000</td>\n",
       "      <td>0</td>\n",
       "      <td>0.0</td>\n",
       "      <td>0.0</td>\n",
       "      <td>0.397959</td>\n",
       "      <td>0</td>\n",
       "      <td>0</td>\n",
       "      <td>1</td>\n",
       "      <td>0</td>\n",
       "      <td>...</td>\n",
       "      <td>0</td>\n",
       "      <td>0</td>\n",
       "      <td>0</td>\n",
       "      <td>0</td>\n",
       "      <td>0</td>\n",
       "      <td>0</td>\n",
       "      <td>0</td>\n",
       "      <td>1</td>\n",
       "      <td>0</td>\n",
       "      <td>0</td>\n",
       "    </tr>\n",
       "    <tr>\n",
       "      <th>26402</th>\n",
       "      <td>0.383562</td>\n",
       "      <td>0.733333</td>\n",
       "      <td>1</td>\n",
       "      <td>0.0</td>\n",
       "      <td>0.0</td>\n",
       "      <td>0.663265</td>\n",
       "      <td>0</td>\n",
       "      <td>0</td>\n",
       "      <td>1</td>\n",
       "      <td>0</td>\n",
       "      <td>...</td>\n",
       "      <td>0</td>\n",
       "      <td>0</td>\n",
       "      <td>0</td>\n",
       "      <td>0</td>\n",
       "      <td>0</td>\n",
       "      <td>0</td>\n",
       "      <td>0</td>\n",
       "      <td>0</td>\n",
       "      <td>0</td>\n",
       "      <td>1</td>\n",
       "    </tr>\n",
       "    <tr>\n",
       "      <th>31411</th>\n",
       "      <td>0.383562</td>\n",
       "      <td>0.400000</td>\n",
       "      <td>1</td>\n",
       "      <td>0.0</td>\n",
       "      <td>0.0</td>\n",
       "      <td>0.500000</td>\n",
       "      <td>0</td>\n",
       "      <td>0</td>\n",
       "      <td>0</td>\n",
       "      <td>0</td>\n",
       "      <td>...</td>\n",
       "      <td>0</td>\n",
       "      <td>0</td>\n",
       "      <td>0</td>\n",
       "      <td>0</td>\n",
       "      <td>0</td>\n",
       "      <td>0</td>\n",
       "      <td>0</td>\n",
       "      <td>1</td>\n",
       "      <td>0</td>\n",
       "      <td>0</td>\n",
       "    </tr>\n",
       "    <tr>\n",
       "      <th>13367</th>\n",
       "      <td>0.301370</td>\n",
       "      <td>0.533333</td>\n",
       "      <td>1</td>\n",
       "      <td>0.0</td>\n",
       "      <td>0.0</td>\n",
       "      <td>0.704082</td>\n",
       "      <td>0</td>\n",
       "      <td>0</td>\n",
       "      <td>0</td>\n",
       "      <td>1</td>\n",
       "      <td>...</td>\n",
       "      <td>0</td>\n",
       "      <td>0</td>\n",
       "      <td>0</td>\n",
       "      <td>0</td>\n",
       "      <td>0</td>\n",
       "      <td>0</td>\n",
       "      <td>0</td>\n",
       "      <td>1</td>\n",
       "      <td>0</td>\n",
       "      <td>0</td>\n",
       "    </tr>\n",
       "    <tr>\n",
       "      <th>38742</th>\n",
       "      <td>0.465753</td>\n",
       "      <td>0.533333</td>\n",
       "      <td>0</td>\n",
       "      <td>0.0</td>\n",
       "      <td>0.0</td>\n",
       "      <td>0.377551</td>\n",
       "      <td>0</td>\n",
       "      <td>0</td>\n",
       "      <td>0</td>\n",
       "      <td>0</td>\n",
       "      <td>...</td>\n",
       "      <td>0</td>\n",
       "      <td>0</td>\n",
       "      <td>0</td>\n",
       "      <td>0</td>\n",
       "      <td>0</td>\n",
       "      <td>0</td>\n",
       "      <td>0</td>\n",
       "      <td>1</td>\n",
       "      <td>0</td>\n",
       "      <td>0</td>\n",
       "    </tr>\n",
       "  </tbody>\n",
       "</table>\n",
       "<p>5 rows × 102 columns</p>\n",
       "</div>"
      ],
      "text/plain": [
       "            age  education-num  sex  capital-gain  capital-loss  \\\n",
       "7963   0.205479       0.800000    0           0.0           0.0   \n",
       "26402  0.383562       0.733333    1           0.0           0.0   \n",
       "31411  0.383562       0.400000    1           0.0           0.0   \n",
       "13367  0.301370       0.533333    1           0.0           0.0   \n",
       "38742  0.465753       0.533333    0           0.0           0.0   \n",
       "\n",
       "       hours-per-week  workclass_ Federal-gov  workclass_ Local-gov  \\\n",
       "7963         0.397959                       0                     0   \n",
       "26402        0.663265                       0                     0   \n",
       "31411        0.500000                       0                     0   \n",
       "13367        0.704082                       0                     0   \n",
       "38742        0.377551                       0                     0   \n",
       "\n",
       "       workclass_ Private  workclass_ Self-emp-inc  ...  \\\n",
       "7963                    1                        0  ...   \n",
       "26402                   1                        0  ...   \n",
       "31411                   0                        0  ...   \n",
       "13367                   0                        1  ...   \n",
       "38742                   0                        0  ...   \n",
       "\n",
       "       native-country_ Portugal  native-country_ Puerto-Rico  \\\n",
       "7963                          0                            0   \n",
       "26402                         0                            0   \n",
       "31411                         0                            0   \n",
       "13367                         0                            0   \n",
       "38742                         0                            0   \n",
       "\n",
       "       native-country_ Scotland  native-country_ South  \\\n",
       "7963                          0                      0   \n",
       "26402                         0                      0   \n",
       "31411                         0                      0   \n",
       "13367                         0                      0   \n",
       "38742                         0                      0   \n",
       "\n",
       "       native-country_ Taiwan  native-country_ Thailand  \\\n",
       "7963                        0                         0   \n",
       "26402                       0                         0   \n",
       "31411                       0                         0   \n",
       "13367                       0                         0   \n",
       "38742                       0                         0   \n",
       "\n",
       "       native-country_ Trinadad&Tobago  native-country_ United-States  \\\n",
       "7963                                 0                              1   \n",
       "26402                                0                              0   \n",
       "31411                                0                              1   \n",
       "13367                                0                              1   \n",
       "38742                                0                              1   \n",
       "\n",
       "       native-country_ Vietnam  native-country_ Yugoslavia  \n",
       "7963                         0                           0  \n",
       "26402                        0                           1  \n",
       "31411                        0                           0  \n",
       "13367                        0                           0  \n",
       "38742                        0                           0  \n",
       "\n",
       "[5 rows x 102 columns]"
      ]
     },
     "execution_count": 141,
     "metadata": {},
     "output_type": "execute_result"
    },
    {
     "data": {
      "application/javascript": [
       "\n",
       "            setTimeout(function() {\n",
       "                var nbb_cell_id = 141;\n",
       "                var nbb_unformatted_code = \"# Import train_test_split\\nfrom sklearn.model_selection import train_test_split\\n\\n# Split the 'features' and 'income' data into training and testing sets\\nX_train, X_test, y_train, y_test = train_test_split(\\n    features_final.drop([\\\"income\\\"], axis=1), income, test_size=0.2, random_state=42\\n)\\n\\n# Show the results of the split\\nprint(\\\"Training set has {} samples.\\\".format(X_train.shape[0]))\\nprint(\\\"Testing set has {} samples.\\\".format(X_test.shape[0]))\\nX_train.head()\";\n",
       "                var nbb_formatted_code = \"# Import train_test_split\\nfrom sklearn.model_selection import train_test_split\\n\\n# Split the 'features' and 'income' data into training and testing sets\\nX_train, X_test, y_train, y_test = train_test_split(\\n    features_final.drop([\\\"income\\\"], axis=1), income, test_size=0.2, random_state=42\\n)\\n\\n# Show the results of the split\\nprint(\\\"Training set has {} samples.\\\".format(X_train.shape[0]))\\nprint(\\\"Testing set has {} samples.\\\".format(X_test.shape[0]))\\nX_train.head()\";\n",
       "                var nbb_cells = Jupyter.notebook.get_cells();\n",
       "                for (var i = 0; i < nbb_cells.length; ++i) {\n",
       "                    if (nbb_cells[i].input_prompt_number == nbb_cell_id) {\n",
       "                        if (nbb_cells[i].get_text() == nbb_unformatted_code) {\n",
       "                             nbb_cells[i].set_text(nbb_formatted_code);\n",
       "                        }\n",
       "                        break;\n",
       "                    }\n",
       "                }\n",
       "            }, 500);\n",
       "            "
      ],
      "text/plain": [
       "<IPython.core.display.Javascript object>"
      ]
     },
     "metadata": {},
     "output_type": "display_data"
    }
   ],
   "source": [
    "X_train, X_test, y_train, y_test = train_test_split(\n",
    "    features_final.drop([\"income\"], axis=1), income, test_size=0.2, random_state=42\n",
    ")\n",
    "\n",
    "# Show the results of the split\n",
    "print(\"Training set has {} samples.\".format(X_train.shape[0]))\n",
    "print(\"Testing set has {} samples.\".format(X_test.shape[0]))\n",
    "X_train.head()"
   ]
  },
  {
   "cell_type": "code",
   "execution_count": 142,
   "metadata": {},
   "outputs": [
    {
     "name": "stdout",
     "output_type": "stream",
     "text": [
      "GaussianNB trained on 361 samples.\n",
      "GaussianNB trained on 3617 samples.\n",
      "GaussianNB trained on 36177 samples.\n",
      "SVC trained on 361 samples.\n",
      "SVC trained on 3617 samples.\n",
      "SVC trained on 36177 samples.\n",
      "AdaBoostClassifier trained on 361 samples.\n",
      "AdaBoostClassifier trained on 3617 samples.\n",
      "AdaBoostClassifier trained on 36177 samples.\n",
      "XGBClassifier trained on 361 samples.\n",
      "XGBClassifier trained on 3617 samples.\n",
      "XGBClassifier trained on 36177 samples.\n",
      "LGBMClassifier trained on 361 samples.\n",
      "LGBMClassifier trained on 3617 samples.\n",
      "LGBMClassifier trained on 36177 samples.\n"
     ]
    },
    {
     "data": {
      "application/javascript": [
       "\n",
       "            setTimeout(function() {\n",
       "                var nbb_cell_id = 142;\n",
       "                var nbb_unformatted_code = \"clf_A = GaussianNB()\\nclf_B = SVC(random_state=42)\\nclf_C = AdaBoostClassifier(random_state=42)\\nclf_D = XGBClassifier(random_state=42)\\nclf_E = LGBMClassifier(random_state=42)\\n\\n\\n# TODO: Calculate the number of samples for 1%, 10%, and 100% of the training data\\n# HINT: samples_100 is the entire training set i.e. len(y_train)\\n# HINT: samples_10 is 10% of samples_100 (ensure to set the count of the values to be `int` and not `float`)\\n# HINT: samples_1 is 1% of samples_100 (ensure to set the count of the values to be `int` and not `float`)\\nsamples_100 = len(y_train)\\nsamples_10 = int(0.1 * len(y_train))\\nsamples_1 = int(0.01 * len(y_train))\\n\\n# Collect results on the learners\\nresults = {}\\nfor clf in [clf_A, clf_B, clf_C, clf_D, clf_E]:\\n    clf_name = clf.__class__.__name__\\n    results[clf_name] = {}\\n    for i, samples in enumerate([samples_1, samples_10, samples_100]):\\n        results[clf_name][i] = train_predict(\\n            clf, samples, X_train, y_train, X_test, y_test\\n        )\";\n",
       "                var nbb_formatted_code = \"clf_A = GaussianNB()\\nclf_B = SVC(random_state=42)\\nclf_C = AdaBoostClassifier(random_state=42)\\nclf_D = XGBClassifier(random_state=42)\\nclf_E = LGBMClassifier(random_state=42)\\n\\n\\n# TODO: Calculate the number of samples for 1%, 10%, and 100% of the training data\\n# HINT: samples_100 is the entire training set i.e. len(y_train)\\n# HINT: samples_10 is 10% of samples_100 (ensure to set the count of the values to be `int` and not `float`)\\n# HINT: samples_1 is 1% of samples_100 (ensure to set the count of the values to be `int` and not `float`)\\nsamples_100 = len(y_train)\\nsamples_10 = int(0.1 * len(y_train))\\nsamples_1 = int(0.01 * len(y_train))\\n\\n# Collect results on the learners\\nresults = {}\\nfor clf in [clf_A, clf_B, clf_C, clf_D, clf_E]:\\n    clf_name = clf.__class__.__name__\\n    results[clf_name] = {}\\n    for i, samples in enumerate([samples_1, samples_10, samples_100]):\\n        results[clf_name][i] = train_predict(\\n            clf, samples, X_train, y_train, X_test, y_test\\n        )\";\n",
       "                var nbb_cells = Jupyter.notebook.get_cells();\n",
       "                for (var i = 0; i < nbb_cells.length; ++i) {\n",
       "                    if (nbb_cells[i].input_prompt_number == nbb_cell_id) {\n",
       "                        if (nbb_cells[i].get_text() == nbb_unformatted_code) {\n",
       "                             nbb_cells[i].set_text(nbb_formatted_code);\n",
       "                        }\n",
       "                        break;\n",
       "                    }\n",
       "                }\n",
       "            }, 500);\n",
       "            "
      ],
      "text/plain": [
       "<IPython.core.display.Javascript object>"
      ]
     },
     "metadata": {},
     "output_type": "display_data"
    }
   ],
   "source": [
    "clf_A = GaussianNB()\n",
    "clf_B = SVC(random_state=42)\n",
    "clf_C = AdaBoostClassifier(random_state=42)\n",
    "clf_D = XGBClassifier(random_state=42)\n",
    "clf_E = LGBMClassifier(random_state=42)\n",
    "\n",
    "\n",
    "# TODO: Calculate the number of samples for 1%, 10%, and 100% of the training data\n",
    "# HINT: samples_100 is the entire training set i.e. len(y_train)\n",
    "# HINT: samples_10 is 10% of samples_100 (ensure to set the count of the values to be `int` and not `float`)\n",
    "# HINT: samples_1 is 1% of samples_100 (ensure to set the count of the values to be `int` and not `float`)\n",
    "samples_100 = len(y_train)\n",
    "samples_10 = int(0.1 * len(y_train))\n",
    "samples_1 = int(0.01 * len(y_train))\n",
    "\n",
    "# Collect results on the learners\n",
    "results2 = {}\n",
    "for clf in [clf_A, clf_B, clf_C, clf_D, clf_E]:\n",
    "    clf_name = clf.__class__.__name__\n",
    "    results2[clf_name] = {}\n",
    "    for i, samples in enumerate([samples_1, samples_10, samples_100]):\n",
    "        results2[clf_name][i] = train_predict(\n",
    "            clf, samples, X_train, y_train, X_test, y_test\n",
    "        )\n"
   ]
  },
  {
   "cell_type": "code",
   "execution_count": 143,
   "metadata": {},
   "outputs": [
    {
     "data": {
      "text/html": [
       "<div>\n",
       "<style scoped>\n",
       "    .dataframe tbody tr th:only-of-type {\n",
       "        vertical-align: middle;\n",
       "    }\n",
       "\n",
       "    .dataframe tbody tr th {\n",
       "        vertical-align: top;\n",
       "    }\n",
       "\n",
       "    .dataframe thead th {\n",
       "        text-align: right;\n",
       "    }\n",
       "</style>\n",
       "<table border=\"1\" class=\"dataframe\">\n",
       "  <thead>\n",
       "    <tr style=\"text-align: right;\">\n",
       "      <th></th>\n",
       "      <th>model</th>\n",
       "      <th>variable</th>\n",
       "      <th>value</th>\n",
       "    </tr>\n",
       "  </thead>\n",
       "  <tbody>\n",
       "    <tr>\n",
       "      <th>0</th>\n",
       "      <td>GaussianNB</td>\n",
       "      <td>train_time</td>\n",
       "      <td>0.138221</td>\n",
       "    </tr>\n",
       "    <tr>\n",
       "      <th>1</th>\n",
       "      <td>GaussianNB</td>\n",
       "      <td>test_time</td>\n",
       "      <td>0.118232</td>\n",
       "    </tr>\n",
       "    <tr>\n",
       "      <th>2</th>\n",
       "      <td>GaussianNB</td>\n",
       "      <td>acc_train</td>\n",
       "      <td>0.627277</td>\n",
       "    </tr>\n",
       "    <tr>\n",
       "      <th>3</th>\n",
       "      <td>GaussianNB</td>\n",
       "      <td>acc_test</td>\n",
       "      <td>0.635489</td>\n",
       "    </tr>\n",
       "    <tr>\n",
       "      <th>4</th>\n",
       "      <td>GaussianNB</td>\n",
       "      <td>f_train</td>\n",
       "      <td>0.442006</td>\n",
       "    </tr>\n",
       "  </tbody>\n",
       "</table>\n",
       "</div>"
      ],
      "text/plain": [
       "        model    variable     value\n",
       "0  GaussianNB  train_time  0.138221\n",
       "1  GaussianNB   test_time  0.118232\n",
       "2  GaussianNB   acc_train  0.627277\n",
       "3  GaussianNB    acc_test  0.635489\n",
       "4  GaussianNB     f_train  0.442006"
      ]
     },
     "execution_count": 143,
     "metadata": {},
     "output_type": "execute_result"
    },
    {
     "data": {
      "application/javascript": [
       "\n",
       "            setTimeout(function() {\n",
       "                var nbb_cell_id = 143;\n",
       "                var nbb_unformatted_code = \"variable = {\\\"model\\\": [], \\\"variable\\\": [], \\\"value\\\": []}\\nfor i in results.keys():\\n    for j in results[i]:\\n        for z in results[i][j]:\\n            variable[\\\"model\\\"].append(i)\\n            variable[\\\"variable\\\"].append(z)\\n            variable[\\\"value\\\"].append(results[i][j][z])\\ndf1 = pd.DataFrame(variable)\\ndf1.head()\";\n",
       "                var nbb_formatted_code = \"variable = {\\\"model\\\": [], \\\"variable\\\": [], \\\"value\\\": []}\\nfor i in results.keys():\\n    for j in results[i]:\\n        for z in results[i][j]:\\n            variable[\\\"model\\\"].append(i)\\n            variable[\\\"variable\\\"].append(z)\\n            variable[\\\"value\\\"].append(results[i][j][z])\\ndf1 = pd.DataFrame(variable)\\ndf1.head()\";\n",
       "                var nbb_cells = Jupyter.notebook.get_cells();\n",
       "                for (var i = 0; i < nbb_cells.length; ++i) {\n",
       "                    if (nbb_cells[i].input_prompt_number == nbb_cell_id) {\n",
       "                        if (nbb_cells[i].get_text() == nbb_unformatted_code) {\n",
       "                             nbb_cells[i].set_text(nbb_formatted_code);\n",
       "                        }\n",
       "                        break;\n",
       "                    }\n",
       "                }\n",
       "            }, 500);\n",
       "            "
      ],
      "text/plain": [
       "<IPython.core.display.Javascript object>"
      ]
     },
     "metadata": {},
     "output_type": "display_data"
    }
   ],
   "source": [
    "variable = {\"model\": [], \"variable\": [], \"value\": []}\n",
    "for i in results2.keys():\n",
    "    for j in results2[i]:\n",
    "        for z in results2[i][j]:\n",
    "            variable[\"model\"].append(i)\n",
    "            variable[\"variable\"].append(z)\n",
    "            variable[\"value\"].append(results2[i][j][z])\n",
    "df1 = pd.DataFrame(variable)\n",
    "df1.head()"
   ]
  },
  {
   "cell_type": "code",
   "execution_count": 146,
   "metadata": {
    "scrolled": false
   },
   "outputs": [
    {
     "data": {
      "image/png": "[encoded data removed]",
      "text/plain": [
       "<Figure size 2000x2000 with 3 Axes>"
      ]
     },
     "metadata": {
      "needs_background": "light"
     },
     "output_type": "display_data"
    },
    {
     "data": {
      "application/javascript": [
       "\n",
       "            setTimeout(function() {\n",
       "                var nbb_cell_id = 146;\n",
       "                var nbb_unformatted_code = \"fig = plt.figure(dpi=100, figsize=(20, 20))\\ny_ax = [\\n    [\\\"train_time\\\", \\\"test_time\\\", \\\"time in second\\\"],\\n    [\\\"acc_train\\\", \\\"acc_test\\\", \\\"accuracy\\\"],\\n    [\\\"f_train\\\", \\\"f_test\\\", \\\"f-score\\\"],\\n]\\nfor i in range(3):\\n    ax = fig.add_subplot(331 + i)\\n    plt.title(y_ax[i][0] + \\\" / \\\" + y_ax[i][1], size=20)\\n    rf = df1[(df1[\\\"variable\\\"] == y_ax[i][0]) | (df1[\\\"variable\\\"] == y_ax[i][1])]\\n    sns.swarmplot(\\n        data=rf, x=\\\"model\\\", y=\\\"value\\\", hue=\\\"variable\\\", palette=[\\\"r\\\", \\\"g\\\"],\\n    )\\n    plt.legend()\\n    plt.ylabel(y_ax[i][2], fontsize=15)\\n    plt.xlabel(\\\"\\\")\\n    plt.xticks(rotation=-75, size=15)\\n    plt.yticks(size=15)\\n\\nplt.show()\";\n",
       "                var nbb_formatted_code = \"fig = plt.figure(dpi=100, figsize=(20, 20))\\ny_ax = [\\n    [\\\"train_time\\\", \\\"test_time\\\", \\\"time in second\\\"],\\n    [\\\"acc_train\\\", \\\"acc_test\\\", \\\"accuracy\\\"],\\n    [\\\"f_train\\\", \\\"f_test\\\", \\\"f-score\\\"],\\n]\\nfor i in range(3):\\n    ax = fig.add_subplot(331 + i)\\n    plt.title(y_ax[i][0] + \\\" / \\\" + y_ax[i][1], size=20)\\n    rf = df1[(df1[\\\"variable\\\"] == y_ax[i][0]) | (df1[\\\"variable\\\"] == y_ax[i][1])]\\n    sns.swarmplot(\\n        data=rf, x=\\\"model\\\", y=\\\"value\\\", hue=\\\"variable\\\", palette=[\\\"r\\\", \\\"g\\\"],\\n    )\\n    plt.legend()\\n    plt.ylabel(y_ax[i][2], fontsize=15)\\n    plt.xlabel(\\\"\\\")\\n    plt.xticks(rotation=-75, size=15)\\n    plt.yticks(size=15)\\n\\nplt.show()\";\n",
       "                var nbb_cells = Jupyter.notebook.get_cells();\n",
       "                for (var i = 0; i < nbb_cells.length; ++i) {\n",
       "                    if (nbb_cells[i].input_prompt_number == nbb_cell_id) {\n",
       "                        if (nbb_cells[i].get_text() == nbb_unformatted_code) {\n",
       "                             nbb_cells[i].set_text(nbb_formatted_code);\n",
       "                        }\n",
       "                        break;\n",
       "                    }\n",
       "                }\n",
       "            }, 500);\n",
       "            "
      ],
      "text/plain": [
       "<IPython.core.display.Javascript object>"
      ]
     },
     "metadata": {},
     "output_type": "display_data"
    }
   ],
   "source": [
    "fig = plt.figure(dpi=100, figsize=(20, 20))\n",
    "y_ax = [\n",
    "    [\"train_time\", \"test_time\", \"time in second\"],\n",
    "    [\"acc_train\", \"acc_test\", \"accuracy\"],\n",
    "    [\"f_train\", \"f_test\", \"f-score\"],\n",
    "]\n",
    "for i in range(3):\n",
    "    ax = fig.add_subplot(331 + i)\n",
    "    plt.title(y_ax[i][0] + \" / \" + y_ax[i][1], size=20)\n",
    "    rf = df1[(df1[\"variable\"] == y_ax[i][0]) | (df1[\"variable\"] == y_ax[i][1])]\n",
    "    sns.swarmplot(\n",
    "        data=rf, x=\"model\", y=\"value\", hue=\"variable\", palette=[\"r\", \"g\"],\n",
    "    )\n",
    "    plt.legend()\n",
    "    plt.ylabel(y_ax[i][2], fontsize=15)\n",
    "    plt.xlabel(\"\")\n",
    "    plt.xticks(rotation=-75, size=15)\n",
    "    plt.yticks(size=15)\n",
    "\n",
    "plt.show()"
   ]
  },
  {
   "cell_type": "code",
   "execution_count": 147,
   "metadata": {
    "scrolled": false
   },
   "outputs": [
    {
     "data": {
      "image/png": "[encoded data removed]",
      "text/plain": [
       "<Figure size 600x400 with 1 Axes>"
      ]
     },
     "metadata": {
      "needs_background": "light"
     },
     "output_type": "display_data"
    },
    {
     "data": {
      "application/javascript": [
       "\n",
       "            setTimeout(function() {\n",
       "                var nbb_cell_id = 147;\n",
       "                var nbb_unformatted_code = \"rf = df1[(df1[\\\"variable\\\"] == \\\"test_time\\\") | (df1[\\\"variable\\\"] == \\\"train_time\\\")]\\n\\nplt.figure(dpi=100)\\nsns.swarmplot(data=rf[rf.model != \\\"SVC\\\"], x=\\\"model\\\", y=\\\"value\\\", hue=\\\"variable\\\")\\nplt.xticks(rotation=-45)\\nplt.show()\";\n",
       "                var nbb_formatted_code = \"rf = df1[(df1[\\\"variable\\\"] == \\\"test_time\\\") | (df1[\\\"variable\\\"] == \\\"train_time\\\")]\\n\\nplt.figure(dpi=100)\\nsns.swarmplot(data=rf[rf.model != \\\"SVC\\\"], x=\\\"model\\\", y=\\\"value\\\", hue=\\\"variable\\\")\\nplt.xticks(rotation=-45)\\nplt.show()\";\n",
       "                var nbb_cells = Jupyter.notebook.get_cells();\n",
       "                for (var i = 0; i < nbb_cells.length; ++i) {\n",
       "                    if (nbb_cells[i].input_prompt_number == nbb_cell_id) {\n",
       "                        if (nbb_cells[i].get_text() == nbb_unformatted_code) {\n",
       "                             nbb_cells[i].set_text(nbb_formatted_code);\n",
       "                        }\n",
       "                        break;\n",
       "                    }\n",
       "                }\n",
       "            }, 500);\n",
       "            "
      ],
      "text/plain": [
       "<IPython.core.display.Javascript object>"
      ]
     },
     "metadata": {},
     "output_type": "display_data"
    }
   ],
   "source": [
    "rf = df1[(df1[\"variable\"] == \"test_time\") | (df1[\"variable\"] == \"train_time\")]\n",
    "\n",
    "plt.figure(dpi=100)\n",
    "sns.swarmplot(data=rf[rf.model != \"SVC\"], x=\"model\", y=\"value\", hue=\"variable\")\n",
    "plt.xticks(rotation=-45)\n",
    "plt.show()"
   ]
  },
  {
   "cell_type": "markdown",
   "metadata": {},
   "source": [
    "there is no meaningful difference in accurcy and f-score with relative features and all featuers but in all features the process takes very great time so it is definitely not recommended in this projecgt\n"
   ]
  }
 ],
 "metadata": {
  "kernelspec": {
   "display_name": "Python 3",
   "language": "python",
   "name": "python3"
  },
  "language_info": {
   "codemirror_mode": {
    "name": "ipython",
    "version": 3
   },
   "file_extension": ".py",
   "mimetype": "text/x-python",
   "name": "python",
   "nbconvert_exporter": "python",
   "pygments_lexer": "ipython3",
   "version": "3.7.3"
  }
 },
 "nbformat": 4,
 "nbformat_minor": 1
}
